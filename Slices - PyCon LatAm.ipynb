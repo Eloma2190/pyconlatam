{
 "cells": [
  {
   "cell_type": "markdown",
   "metadata": {
    "slideshow": {
     "slide_type": "slide"
    }
   },
   "source": [
    "# Una rebanada de Python\n",
    "## Pycon LatAm 2021\n",
    "\n",
    "![Slices](pie_slices_2.jpg)\n",
    "\n",
    "\n",
    "**Naomi Ceder - 2021-10-03**"
   ]
  },
  {
   "cell_type": "markdown",
   "metadata": {
    "slideshow": {
     "slide_type": "notes"
    }
   },
   "source": [
    "Hola, soy Naomi Ceder y estoy encantada de hablar con ustedes hoy. Les extraño mucho y espero que el año próximo podamos estar juntos en PyLatam 2022. \n",
    "\n",
    "Y por cierto, la otra charla ahora de Marcelo Elizeche Landó sobre su proyecto Ayuda.py es excelente. No se pierdan de ver el video - es una historia inspiradora. \n",
    "\n",
    "Pero ahora quiero hablar un poco sobre una caractéristica poco apreciada de Python, la segmentación o el uso de las rebanadas (o *slices*).\n",
    "\n",
    "Voy a usar las palabras \"slice\" y \"rebanada\". Por supuesto el objeto de Python es un \"slice\", pero en la documentación de Python se usa \"rebanada\" como término informal en español. "
   ]
  },
  {
   "cell_type": "markdown",
   "metadata": {
    "slideshow": {
     "slide_type": "slide"
    }
   },
   "source": [
    "## En Python hay varios tipos de secuencias\n",
    "\n",
    "* listas\n",
    "* tuplas\n",
    "* cadenas\n",
    "* etc \n"
   ]
  },
  {
   "cell_type": "markdown",
   "metadata": {
    "slideshow": {
     "slide_type": "notes"
    }
   },
   "source": [
    "En Python hay varios tipos de secuencia - por ejemplo listas, tuplas, cadenas, etc., \n",
    "\n",
    "En Python un objeto sigue la semántica de secuencia si:\n",
    "* accede a sus valores o elementos en orden\n",
    "* accede a sus elementos con corchetes `[]` e índices de enteros empezando desde 0\n",
    "* lanza una excepción IndexError cuando el índice está más allá del final de la secuencia\n"
   ]
  },
  {
   "cell_type": "markdown",
   "metadata": {
    "slideshow": {
     "slide_type": "slide"
    }
   },
   "source": [
    "### Y una caractéristica muy interesante de ellas es el uso de las rebanadas (*slices* en inglés)\n",
    "\n",
    "Rebanadas (*slices*) son una manera de extraer y manipular secuencias y sub-secuencias\n",
    "\n"
   ]
  },
  {
   "cell_type": "markdown",
   "metadata": {
    "slideshow": {
     "slide_type": "notes"
    }
   },
   "source": [
    "y una caractéristica poderosa (pero en general no entendida) de ellas es el uso de rebanadas (slices) para extraer y manipular secuencias y sub-secuencias. "
   ]
  },
  {
   "cell_type": "markdown",
   "metadata": {
    "slideshow": {
     "slide_type": "slide"
    }
   },
   "source": [
    "## Lo básico"
   ]
  },
  {
   "cell_type": "markdown",
   "metadata": {
    "slideshow": {
     "slide_type": "notes"
    }
   },
   "source": [
    "Antes de nada, revisemos rápidamente lo básico del uso de las rebanadas, con algunos ejemplos..."
   ]
  },
  {
   "cell_type": "markdown",
   "metadata": {
    "slideshow": {
     "slide_type": "slide"
    }
   },
   "source": [
    "### La notación de rebanada\n",
    "\n",
    "Las rebanadas se indican por:\n",
    "* `[]` - corchetes\n",
    "* `:` - dos puntos en los corchetes\n"
   ]
  },
  {
   "cell_type": "markdown",
   "metadata": {
    "slideshow": {
     "slide_type": "notes"
    }
   },
   "source": [
    "`:` indican una rebanada siempre y cuando se utilicen entre corchetes\n",
    "\n",
    "* `[]` - corchetes\n",
    "* `:` - dos puntos"
   ]
  },
  {
   "cell_type": "markdown",
   "metadata": {
    "slideshow": {
     "slide_type": "slide"
    }
   },
   "source": [
    "### Especificar una rebanada\n",
    "\n",
    "La forma más completa es proporcionar:\n",
    "* un valor de *start* o el índice dónde se comienza la rebanada\n",
    "* un valor de *stop*, es decir el índice **antes** de que termina la rebanada\n",
    "* un valor de *step* o \"paso\", que es la cantidad de índices que avanza la rebanada cada vez"
   ]
  },
  {
   "cell_type": "code",
   "execution_count": null,
   "metadata": {
    "slideshow": {
     "slide_type": "fragment"
    }
   },
   "outputs": [],
   "source": []
  },
  {
   "cell_type": "markdown",
   "metadata": {
    "slideshow": {
     "slide_type": "notes"
    }
   },
   "source": [
    "Bueno, para especificar un slice de forma completa usamos cinco elementos - un valor de start, el índice donde comenzamos, dos puntos, un valor de stop, que es el índice antes de que terminamos, dos puntos otra vez, y finalmente un valor step, que es la cantidad de índices que avanzamos cada paso. \n",
    "```python\n",
    "una_lista = [0, 1, 2, 3, 4, 5, 6, 7, 8, 9]\n",
    "\n",
    "una_lista[0:len(una_lista):1]\n",
    "```\n",
    "*estos ejemplos son listas en general, pero todas las secuencias se comportan en la misma manera.*"
   ]
  },
  {
   "cell_type": "markdown",
   "metadata": {
    "slideshow": {
     "slide_type": "slide"
    }
   },
   "source": [
    "### Todos los valores son opcionales...\n",
    "\n",
    "Si se omite un valor de:\n",
    "* *start* se usa 0 (o el inicio de la secuencia)\n",
    "* *stop* se usa el índice final de la secuencia + 1\n",
    "* *step* se usa 1, y se incluyen todos los indices desde *start* hasta *stop*"
   ]
  },
  {
   "cell_type": "code",
   "execution_count": null,
   "metadata": {
    "scrolled": false,
    "slideshow": {
     "slide_type": "fragment"
    }
   },
   "outputs": [],
   "source": []
  },
  {
   "cell_type": "code",
   "execution_count": null,
   "metadata": {
    "slideshow": {
     "slide_type": "fragment"
    }
   },
   "outputs": [],
   "source": [
    "\n"
   ]
  },
  {
   "cell_type": "markdown",
   "metadata": {
    "slideshow": {
     "slide_type": "notes"
    }
   },
   "source": [
    "Pero cinco elementos claro serán demasiados para nosotros programadores perezosos... y casi todos estos elementos son opcionales. Solo hay que tener dos puntos para un slice. \n",
    "\n",
    "```python\n",
    "una_lista[:]\n",
    "```\n",
    "\n",
    "Si omitimos el valor start, se asume 0; si omitimos stop, se asume el indíce final + 1, y si no tenemos un valor step, se asume 1. En general, si no hay ningún valor,  Python usa el valor más común y lógico.\n",
    "\n",
    "Se pueden copiar unos elementos a otra lista (both in the second code cell)\n",
    "```python\n",
    "otra_lista = una_lista[:]\n",
    "```\n",
    "(pero ten cuidado, es solo una copia superficial, los elementos mismos no se copian.)\n",
    "\n",
    "```python\n",
    "print(f\"id(otra_lista ) = {id(otra_lista):<20} id(una_lista) = {id(una_lista)}\")\n",
    "```\n",
    "Se devuelve un objeto nuevo de tipo lista, pero los elementos siguen siendo referencias a los mismos elementos que están en la secuencia original."
   ]
  },
  {
   "cell_type": "code",
   "execution_count": null,
   "metadata": {
    "slideshow": {
     "slide_type": "slide"
    }
   },
   "outputs": [],
   "source": [
    "una_lista = [0,1,2,3,4,5,6,7,8,9]\n",
    "\n",
    "# rebanada vacía\n"
   ]
  },
  {
   "cell_type": "code",
   "execution_count": null,
   "metadata": {
    "slideshow": {
     "slide_type": "fragment"
    }
   },
   "outputs": [],
   "source": [
    "# step of 2\n"
   ]
  },
  {
   "cell_type": "code",
   "execution_count": null,
   "metadata": {
    "slideshow": {
     "slide_type": "fragment"
    }
   },
   "outputs": [],
   "source": [
    "# sub-list\n"
   ]
  },
  {
   "cell_type": "markdown",
   "metadata": {
    "slideshow": {
     "slide_type": "notes"
    }
   },
   "source": [
    "Tambien se puede crear una rebanada vacía cuando los valores de start y stop son iguales...\n",
    "\n",
    "```pythnon\n",
    "una_lista[1:1] \n",
    "```\n",
    "o tener un valor step más de uno... \n",
    "```python\n",
    "una_lista[2:7:2]\n",
    "```\n",
    "\n",
    "o crear una list de solo una parte de la lista original...\n",
    "```python\n",
    "una_lista[2:7]  \n",
    "```"
   ]
  },
  {
   "cell_type": "markdown",
   "metadata": {
    "slideshow": {
     "slide_type": "slide"
    }
   },
   "source": [
    "### Los valores se pueden ser negativos\n",
    "\n",
    "Si es negativo el valor de:\n",
    "* *start* - se cuenta desde el final - -1 es el último índice, -2 es el segundo desde el último, etc\n",
    "* *stop* - se cuenta desde el final - -1 es el último índice, -2 es el segundo desde el último, etc\n",
    "* *step* - la rebanada se crea desde el fin hasta el principio"
   ]
  },
  {
   "cell_type": "code",
   "execution_count": null,
   "metadata": {
    "slideshow": {
     "slide_type": "fragment"
    }
   },
   "outputs": [],
   "source": [
    "# índice negativo de stop\n"
   ]
  },
  {
   "cell_type": "code",
   "execution_count": null,
   "metadata": {
    "slideshow": {
     "slide_type": "fragment"
    }
   },
   "outputs": [],
   "source": [
    "# valor negativo de step\n"
   ]
  },
  {
   "cell_type": "markdown",
   "metadata": {
    "slideshow": {
     "slide_type": "notes"
    }
   },
   "source": [
    "Finalmente todos los valores se pueden ser negativos y los numeros correrán desde el final de la lista hasta el inicio. Entonces, -1 es el último índice, -2 es el segundo desde el último, etc, \n",
    "```python\n",
    "una_lista[:-4]\n",
    "```\n",
    "y con step los valores negativos significan que se accede a los elementos en reversa.\n",
    "```python\n",
    "una_lista[::-1]\n",
    "```"
   ]
  },
  {
   "cell_type": "markdown",
   "metadata": {
    "slideshow": {
     "slide_type": "slide"
    }
   },
   "source": [
    "## Un poco más alla de lo básico\n",
    "\n",
    "\n",
    "### Las rebanadas también se pueden insertar, eliminar, modificar "
   ]
  },
  {
   "cell_type": "code",
   "execution_count": null,
   "metadata": {
    "slideshow": {
     "slide_type": "fragment"
    }
   },
   "outputs": [],
   "source": [
    "una_lista = [0,1, 2, 3, 4, 5, 6, 7, 8, 9]\n",
    "\n"
   ]
  },
  {
   "cell_type": "code",
   "execution_count": null,
   "metadata": {
    "scrolled": true,
    "slideshow": {
     "slide_type": "fragment"
    }
   },
   "outputs": [],
   "source": [
    "\n",
    "\n"
   ]
  },
  {
   "cell_type": "code",
   "execution_count": null,
   "metadata": {
    "slideshow": {
     "slide_type": "fragment"
    }
   },
   "outputs": [],
   "source": [
    "una_lista = [0, 1, 2, 3, 4, 5, 6, 7, 8, 9]\n",
    "\n"
   ]
  },
  {
   "cell_type": "markdown",
   "metadata": {
    "slideshow": {
     "slide_type": "notes"
    }
   },
   "source": [
    "Eso es lo básico sobre las rebanadas en Python. Por supuesto que hay trucos un poco mas avanzados... \n",
    "\n",
    "Una rebanada puede reemplazar a otra, incluso una rebanada vacía (en tipos mutables)\n",
    "```python\n",
    "una_lista[1:1] = [1, 2, 3]\n",
    "una_lista\n",
    "```\n",
    "\n",
    "Reemplazar una rebanada con una rebanada vacía la eliminará \n",
    "```python\n",
    "una_lista[1:4] = []\n",
    "una_lista\n",
    "```\n",
    "\n",
    "Funciona con valores de *step* distintos de 1, pero el número de elementos debe conincidir\n",
    "```python\n",
    "una_lista = [0, 1, 2, 3, 4, 5, 6, 7, 8, 9]\n",
    "una_lista[4:9:2] = [2, 2, 2] \n",
    "una_lista\n",
    "```\n"
   ]
  },
  {
   "cell_type": "markdown",
   "metadata": {
    "slideshow": {
     "slide_type": "slide"
    }
   },
   "source": [
    "## Pero ¿qué es una rebanada?\n",
    "   \n",
    "Y ¿Cómo funciona?\n",
    "\n",
    "Experimentemos... \n",
    "\n",
    "Pero hay que tener un objeto para examinar algunas rebanadas\n",
    "\n",
    "  * las rebanadas requiren [ ]\n",
    "  * luego llaman al metódo `__getitem__()` del objeto\n",
    "  * vamos crear nuestro propio objeto, con un poco de instrumentación en `__getitem__()`...\n",
    " "
   ]
  },
  {
   "cell_type": "markdown",
   "metadata": {
    "slideshow": {
     "slide_type": "notes"
    }
   },
   "source": [
    "Pues, hemos visto que las rebanadas son útiles... y son comunes también... pero ¿qué es una rebanada? ¿Cómo se crean y se utilizan?\n",
    "\n",
    "Hagamos unos experimentos sencillos para ver como funciona una rebanada. Para hacerlo hay que crear un objeto sencillo que nos muestre lo que pasa cuando usamos un slice."
   ]
  },
  {
   "cell_type": "markdown",
   "metadata": {
    "slideshow": {
     "slide_type": "slide"
    }
   },
   "source": [
    "### Experimentar en Python\n",
    "* experimentar es la mejor manera en la que una persona puede apprender\n",
    "* en Python podemos experimenter creando nuestros propios objetos y viendo su comportamiento.\n"
   ]
  },
  {
   "cell_type": "markdown",
   "metadata": {
    "slideshow": {
     "slide_type": "notes"
    }
   },
   "source": [
    "Antes de empezar, quiero decir que para mí lo que vamos a hacer es un aspeto muy importante (y divertido) de Python. Vamos a experimentar, crear objetos sencillos y probar nuestras suposiciones, que es el mejor método para aprender y entender. "
   ]
  },
  {
   "cell_type": "code",
   "execution_count": null,
   "metadata": {
    "slideshow": {
     "slide_type": "slide"
    }
   },
   "outputs": [],
   "source": [
    "# un \"reflector\" que revuelve el índice\n",
    "\n",
    "class Reflector:\n",
    "    def __init__(self, limit):\n",
    "        self.limit = limit\n",
    "\n",
    "        \n",
    "        \n",
    "        \n",
    "        \n",
    "        "
   ]
  },
  {
   "cell_type": "markdown",
   "metadata": {
    "slideshow": {
     "slide_type": "notes"
    }
   },
   "source": [
    "Para entender que es una rebanada tenemos que ver qué acontece cuando se usa los dos puntos en corchetes. \n",
    "\n",
    "Vamos a crear un objeto que imprima cual es el índice entre los corchetes. \n",
    "\n",
    "```python\n",
    "    def __getitem__(self, index):\n",
    "        print(f\"index type:{type(index)} - index:{index}\")\n",
    "        if 0 <= index < self.limit:\n",
    "            return index\n",
    "        else:\n",
    "            raise IndexError\n",
    "```\n",
    "\n",
    "No tenemos que implementar el método `__setitem__()` en este caso, pero sería similar..."
   ]
  },
  {
   "cell_type": "code",
   "execution_count": null,
   "metadata": {
    "slideshow": {
     "slide_type": "slide"
    }
   },
   "outputs": [],
   "source": [
    "reflector = Reflector(5)\n",
    "\n",
    "\n",
    "\n"
   ]
  },
  {
   "cell_type": "markdown",
   "metadata": {
    "slideshow": {
     "slide_type": "notes"
    }
   },
   "source": [
    "Entonces... vamos a crear una instancia de nuestra clase Reflector... y probarla con indíces simples... \n",
    "Funciona bien con un índice legal, como 0... \n",
    "\n",
    "```python\n",
    "reflector[0]\n",
    "```\n",
    "y lanza una exception IndexError con un índice más alla del límite... como esperaríamos... \n",
    "\n",
    "```python\n",
    "reflector[6]\n",
    "```"
   ]
  },
  {
   "cell_type": "markdown",
   "metadata": {
    "slideshow": {
     "slide_type": "slide"
    }
   },
   "source": [
    "### Pero qué hay de rebanadas?\n",
    "\n",
    "Qué acontecerá si usamos una rebanada con nuestro reflector?\n"
   ]
  },
  {
   "cell_type": "markdown",
   "metadata": {
    "slideshow": {
     "slide_type": "notes"
    }
   },
   "source": [
    "Bueno, pero qué acontecerá si usamos nuestro reflector con una rebanada?"
   ]
  },
  {
   "cell_type": "code",
   "execution_count": null,
   "metadata": {
    "scrolled": true,
    "slideshow": {
     "slide_type": "slide"
    }
   },
   "outputs": [],
   "source": [
    "# ahora con una rebanada\n",
    "\n",
    "\n"
   ]
  },
  {
   "cell_type": "markdown",
   "metadata": {
    "slideshow": {
     "slide_type": "notes"
    }
   },
   "source": [
    "```python\n",
    "# ahora con una rebanada\n",
    "\n",
    "reflector[0:3]\n",
    "```\n",
    "\n",
    "Interesante... sí se lanza una excepción debido a la comparación de dos tipos no compatibles... pero antes del error, podemos ver la información sobre la rebanada."
   ]
  },
  {
   "cell_type": "markdown",
   "metadata": {
    "slideshow": {
     "slide_type": "slide"
    }
   },
   "source": [
    "### Esto nos enseña dos cosas...\n",
    "\n",
    "#### 1. La notación de rebanada ( : ) entre  `[ ]`  se convierte en un objeto `slice` anónimo \n",
    "\n",
    "#### 2. Tenemos que escribir algo de código para usar las rebanadas en nuestro reflector"
   ]
  },
  {
   "cell_type": "markdown",
   "metadata": {
    "slideshow": {
     "slide_type": "notes"
    }
   },
   "source": [
    "Claro, para hacer nuestro reflector funcionar con las rebanadas tenemos que añadir un poco de código, pero la cosa más importante que hemos aprendido de este experimento es que la notación de rebanada entre corchetes se convierte en un objeto anónimo de tipo slice. "
   ]
  },
  {
   "cell_type": "markdown",
   "metadata": {
    "slideshow": {
     "slide_type": "slide"
    }
   },
   "source": [
    "### ¿Qué es un `slice`? ¿Podemos crear un objeto `slice`?\n",
    "\n",
    "Primero, usemos la misma forma que hemos visto... "
   ]
  },
  {
   "cell_type": "markdown",
   "metadata": {
    "slideshow": {
     "slide_type": "notes"
    }
   },
   "source": [
    "Entonces, qué es un slice? y podemos crear un slice?"
   ]
  },
  {
   "cell_type": "code",
   "execution_count": null,
   "metadata": {
    "slideshow": {
     "slide_type": "slide"
    }
   },
   "outputs": [],
   "source": [
    "\n",
    "\n",
    "\n",
    "\n"
   ]
  },
  {
   "cell_type": "markdown",
   "metadata": {
    "slideshow": {
     "slide_type": "notes"
    }
   },
   "source": [
    "Si usamos la función incorporada `slice()`, con valores para start, stop y step, podemos crear un objeto slice... \n",
    "\n",
    "```python\n",
    "mi_slice = slice(0, 3, None)\n",
    "mi_slice = slice(0, 3)\n",
    "mi_slice = slice(0)\n",
    "mi_slice = slice(None, None, None)\n",
    "mi_slice  \n",
    "```"
   ]
  },
  {
   "cell_type": "markdown",
   "metadata": {
    "slideshow": {
     "slide_type": "slide"
    }
   },
   "source": [
    "#### Entonces, sabemos que `slice()` usa los elementos de la notación de rebanada como sus parámetros\n",
    "\n",
    "Pero... ¿podríamos usar este slice en vez de la notación con :?"
   ]
  },
  {
   "cell_type": "code",
   "execution_count": null,
   "metadata": {
    "slideshow": {
     "slide_type": "fragment"
    }
   },
   "outputs": [],
   "source": [
    "\n",
    "\n",
    "\n"
   ]
  },
  {
   "cell_type": "markdown",
   "metadata": {
    "slideshow": {
     "slide_type": "notes"
    }
   },
   "source": [
    "```python\n",
    "mi_slice = slice(0,3,1)\n",
    "una_lista = [0, 1, 2, 3, 4, 5, 6, 7, 8, 9]\n",
    "\n",
    "una_lista[mi_slice]  # --> [0:3:1]\n",
    "```\n",
    "\n",
    "Sí, de hecho, podemos usar un objeto slice en vez de la notación típica con dos puntos"
   ]
  },
  {
   "cell_type": "markdown",
   "metadata": {
    "slideshow": {
     "slide_type": "slide"
    }
   },
   "source": [
    "### Luego...\n",
    "las rebanadas comunes se pueden crear una vez como variables con nombres más legibles:"
   ]
  },
  {
   "cell_type": "code",
   "execution_count": null,
   "metadata": {
    "slideshow": {
     "slide_type": "fragment"
    }
   },
   "outputs": [],
   "source": [
    "\n",
    "\n",
    "\n"
   ]
  },
  {
   "cell_type": "markdown",
   "metadata": {
    "slideshow": {
     "slide_type": "notes"
    }
   },
   "source": [
    "Mientras poco común sería legal, y en algunas situaciones Pythónico guardar una rebanada común en una variable.\n",
    "\n",
    "```python\n",
    "pares = slice(0, None, 2)  # --> [0::2]\n",
    "una_lista[pares]\n",
    "```"
   ]
  },
  {
   "cell_type": "markdown",
   "metadata": {
    "slideshow": {
     "slide_type": "slide"
    }
   },
   "source": [
    "### ¿Qué es un  `slice`?"
   ]
  },
  {
   "cell_type": "markdown",
   "metadata": {
    "slideshow": {
     "slide_type": "notes"
    }
   },
   "source": [
    "Sin embargo todavía no sabemos qué exactamente es un slice...\n",
    "\n",
    "A ver... "
   ]
  },
  {
   "cell_type": "code",
   "execution_count": null,
   "metadata": {
    "slideshow": {
     "slide_type": "slide"
    }
   },
   "outputs": [],
   "source": []
  },
  {
   "cell_type": "markdown",
   "metadata": {
    "slideshow": {
     "slide_type": "notes"
    }
   },
   "source": [
    "```python\n",
    "dir(mi_slice) \n",
    "```\n",
    "Con la función `dir()` podemos ver varios métodos dunder... y cuatro otros... "
   ]
  },
  {
   "cell_type": "markdown",
   "metadata": {
    "slideshow": {
     "slide_type": "slide"
    }
   },
   "source": [
    "### start, stop, step\n"
   ]
  },
  {
   "cell_type": "code",
   "execution_count": null,
   "metadata": {
    "slideshow": {
     "slide_type": "fragment"
    }
   },
   "outputs": [],
   "source": [
    "\n"
   ]
  },
  {
   "cell_type": "markdown",
   "metadata": {
    "slideshow": {
     "slide_type": "notes"
    }
   },
   "source": [
    "```python\n",
    "mi_slice.start, mi_slice.stop, mi_slice.step\n",
    "```\n",
    "\n",
    "Estos son los mismos valores que ya hemos visto."
   ]
  },
  {
   "cell_type": "markdown",
   "metadata": {
    "slideshow": {
     "slide_type": "slide"
    }
   },
   "source": [
    "### El método `indices()`\n",
    "* recibe un tamaño\n",
    "* devuelve las índices las que la rebanada usaría para una secuencia de ese tamaño\n",
    "\n",
    "```python\n",
    ">>> help(slice)\n",
    "...\n",
    " |  indices(...)\n",
    " |      S.indices(len) -> (start, stop, stride)\n",
    " |      \n",
    " |      Assuming a sequence of length len, calculate the start and stop\n",
    " |      indices, and the stride length of the extended slice described by\n",
    " |      S. Out of bounds indices are clipped in a manner consistent with the\n",
    " |      handling of normal slices.\n",
    " ...\n",
    "```"
   ]
  },
  {
   "cell_type": "markdown",
   "metadata": {
    "slideshow": {
     "slide_type": "notes"
    }
   },
   "source": [
    "Pero tambien tenemos otro método `indices()`. Veamos la documencación incorporada...\n",
    "\n",
    "la función help nos dice que índices recibe un tamaño y devuelve los valores adecuados de start, stop y step para la rebanada con una secuencia de ese tamaño. "
   ]
  },
  {
   "cell_type": "code",
   "execution_count": null,
   "metadata": {
    "slideshow": {
     "slide_type": "slide"
    }
   },
   "outputs": [],
   "source": [
    "\n",
    "\n"
   ]
  },
  {
   "cell_type": "markdown",
   "metadata": {
    "slideshow": {
     "slide_type": "notes"
    }
   },
   "source": [
    "```python\n",
    "a_slice = slice(None, None)    # --> [:]\n",
    "a_slice.indices(10)\n",
    "```\n",
    "Por ejemplo, si tenemos un slice con start y stop de None, es decir la lista entera, los valores de start, stop, y step serán 0, 10, y 1."
   ]
  },
  {
   "cell_type": "code",
   "execution_count": null,
   "metadata": {
    "slideshow": {
     "slide_type": "slide"
    }
   },
   "outputs": [],
   "source": []
  },
  {
   "cell_type": "markdown",
   "metadata": {
    "slideshow": {
     "slide_type": "notes"
    }
   },
   "source": [
    "Si creamos una rebanada similar, pero al revés, con un step de -1, los valores serán 9 (el último elemento), 0 (el primero), y -1.\n",
    "\n",
    "```python\n",
    "a_slice = slice(None, None, -1)   # --> [::-1] reversing\n",
    "a_slice.indices(10)\n",
    "```"
   ]
  },
  {
   "cell_type": "markdown",
   "metadata": {
    "slideshow": {
     "slide_type": "slide"
    }
   },
   "source": [
    "## Pero ahora... \n",
    "\n",
    "Vamos a escribamos el código que nuestro reflector hace falta... "
   ]
  },
  {
   "cell_type": "code",
   "execution_count": null,
   "metadata": {
    "slideshow": {
     "slide_type": "slide"
    }
   },
   "outputs": [],
   "source": [
    "# a \"reflector\" with slices that prints the index\n",
    "\n",
    "class Reflector:\n",
    "    def __init__(self, limit):\n",
    "        self.limit = limit\n",
    "\n",
    "    def __getitem__(self, index):\n",
    "        print(f\"index type {type(index)} - type {index}\")\n",
    "\n",
    "        \n",
    "        \n",
    "        if 0 <= index < self.limit:\n",
    "            return index  \n",
    "        else: \n",
    "            raise IndexError \n",
    "\n",
    "reflector = Reflector(5)"
   ]
  },
  {
   "cell_type": "markdown",
   "metadata": {
    "slideshow": {
     "slide_type": "notes"
    }
   },
   "source": [
    "Pues, la comparación funciona bien para los indíces simples pero para las rebanadas necesitamos algo diferente.\n",
    "\n",
    "Primero tenemos que saber si el index es de tipo slice. Si lo es, tenemos que devolver los elementos adecuados y para eso podemos usar el método indices, una lista para los resultados, y un bucle while. \n",
    "\n",
    "```python\n",
    "        #>>>>\n",
    "        if isinstance(index, slice):\n",
    "            start, stop, step = index.indices(self.limit)\n",
    "            x = start\n",
    "            resultados = []\n",
    "            while x != stop:\n",
    "                resultados.append(x)\n",
    "                x = x + step\n",
    "            return resultados\n",
    "        #<<<<\n",
    "```"
   ]
  },
  {
   "cell_type": "code",
   "execution_count": null,
   "metadata": {
    "scrolled": true,
    "slideshow": {
     "slide_type": "slide"
    }
   },
   "outputs": [],
   "source": []
  },
  {
   "cell_type": "markdown",
   "metadata": {
    "slideshow": {
     "slide_type": "notes"
    }
   },
   "source": [
    "Sí, funciona perfectamente con los valores y dos puntos, y tambien funciona bien con nuestro slice, incluso con valores negativos.\n",
    "\n",
    "```python\n",
    "#ONE AT A TIME\n",
    "reflector[0:3] \n",
    "reflector[mi_slice]\n",
    "reflector[3::-1] \n",
    "```"
   ]
  },
  {
   "cell_type": "markdown",
   "metadata": {
    "slideshow": {
     "slide_type": "slide"
    }
   },
   "source": [
    "## Conclusión\n",
    "\n",
    "* Las rebanadas son objetos que se crean cuanto dos puntos se usan entre `[ ]`\n",
    "* Las rebanadas se pueden crear con la función `slice()`\n",
    "* Las rebanadas se pueden asignar a variables \n",
    "* Las rebanadas son muy... *Pythónico*\n",
    "   * objetos sencillos \n",
    "   * pero con posibilidades casi ilimitados\n",
    "\n"
   ]
  },
  {
   "cell_type": "markdown",
   "metadata": {
    "slideshow": {
     "slide_type": "notes"
    }
   },
   "source": [
    "En conclusión, las rebanadas o slices son objetos y se crean automáticamente cuando usamos dos puntos en corchetes, o podemos crearlos por la función slice() y asignarlos a variables. \n",
    "\n",
    "La segmentación con rebanadas es una forma poderosa y flexible para manipular secuencias y sub-secuencias... y es una carácteristica muy Pythónico - un objeto tan simple pero poderoso y con muchas posibilidades. \n"
   ]
  },
  {
   "cell_type": "markdown",
   "metadata": {
    "slideshow": {
     "slide_type": "slide"
    }
   },
   "source": [
    "## Pensamiento de despedida\n",
    "\n",
    "* una gran parte de la diversión con Python es explorar\n",
    "   * crear sus propios experimentos\n",
    "   * probar sus suposiciones\n",
    "   * crear sus propios objetos para hacerlo\n",
    "   "
   ]
  },
  {
   "cell_type": "markdown",
   "metadata": {
    "slideshow": {
     "slide_type": "notes"
    }
   },
   "source": [
    "Y finalmente quiero dejarles un pensamiento final -  esta potencia de crear objetos y cambiarlos es un super poder de Python. Podemos probar nuestros suposiciones y aprender explorando, que es la mejor manera de aprender."
   ]
  },
  {
   "cell_type": "markdown",
   "metadata": {
    "slideshow": {
     "slide_type": "slide"
    }
   },
   "source": [
    "## ¡Gracias!\n",
    "\n",
    "### ¿Preguntas?\n",
    "\n",
    "Las diapos están en https://github.com/nceder/pyconlatam)\n",
    "\n",
    "\n",
    "\n",
    "(el mejor fuente de más informaciones sobre las rebanadas en Python es el *Fluent Python* por Luciano Ramalho)\n",
    "\n",
    "¿Quieres hablar (en español, portugués o inglés)? Reserve una hora para una llamada: me encantaría charlar - https://calendly.com/naomi-ceder/charla-con-naomi\n"
   ]
  },
  {
   "cell_type": "markdown",
   "metadata": {
    "slideshow": {
     "slide_type": "notes"
    }
   },
   "source": [
    "Las diapos (es decir el archivo de jupyter notebook) están aquí... \n",
    "\n",
    "(el mejor fuente de más informaciones sobre las rebanadas en Python es el *Fluent Python* por Luciano Ramalho, nuestro keynote final para mañana)\n",
    "\n",
    "y, por supuesto, si tienen alguna pregunta estaré encantada de responderla. \n",
    "\n",
    "Y si quieres hablar un ratito, que reserves una hora para una llamada... \n",
    "\n",
    "Muchas gracias y un abrazo desde Chicago."
   ]
  }
 ],
 "metadata": {
  "celltoolbar": "Slideshow",
  "kernelspec": {
   "display_name": "Python 3 (ipykernel)",
   "language": "python",
   "name": "python3"
  },
  "language_info": {
   "codemirror_mode": {
    "name": "ipython",
    "version": 3
   },
   "file_extension": ".py",
   "mimetype": "text/x-python",
   "name": "python",
   "nbconvert_exporter": "python",
   "pygments_lexer": "ipython3",
   "version": "3.9.6"
  },
  "livereveal": {
   "scroll": true,
   "start_slideshow_at": "selected",
   "theme": "white",
   "transition": "none"
  },
  "toc": {
   "base_numbering": 1,
   "nav_menu": {},
   "number_sections": false,
   "sideBar": true,
   "skip_h1_title": false,
   "title_cell": "Table of Contents",
   "title_sidebar": "Contents",
   "toc_cell": false,
   "toc_position": {},
   "toc_section_display": true,
   "toc_window_display": false
  }
 },
 "nbformat": 4,
 "nbformat_minor": 2
}
