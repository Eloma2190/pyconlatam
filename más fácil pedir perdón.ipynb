{
 "cells": [
  {
   "cell_type": "markdown",
   "metadata": {
    "slideshow": {
     "slide_type": "slide"
    }
   },
   "source": [
    "# En verdad es más fácil pedir perdón que permiso\n",
    "\n",
    "### PyCon Latam\n",
    "\n",
    "\n",
    "**Naomi Ceder, @naomiceder**\n",
    "\n",
    "- **Chair, Python Software Foundation**\n",
    "- **Quick Python Book, 3rd ed**\n",
    "- **Dick Blick Art Materials**\n",
    "\n"
   ]
  },
  {
   "cell_type": "markdown",
   "metadata": {
    "slideshow": {
     "slide_type": "notes"
    }
   },
   "source": [
    "Hola, soy Naomi Ceder, actualmente la presidenta de la PSF, autora del Quick Python Book (voy a firmar libros en ???) y estoy muy honrada de ser ponente aquí en la primera PyCon LatAm, y estoy especialmente feliz de dar mi charla en español. \n",
    "\n",
    "La última vez que visité México, para PythonDay México 2018, no pude dar mi charla en español, pero desde el año pasado he estudiado mucho y creo que mi español ha mejorado. Quiero agradecer a mi profesora Eugenia por su paciencia y correcciones. De hecho esta es mi segunda charla en español y con su apoyo espero dar muchas más en el futuro.\n"
   ]
  },
  {
   "cell_type": "markdown",
   "metadata": {
    "slideshow": {
     "slide_type": "slide"
    }
   },
   "source": [
    "## Introducción\n",
    "\n",
    "* Soy una entusiasta de los idiomas humanos - <br>y de los lenguajes de programación también\n",
    "* Cada idioma tiene sus propias formas de expresar  ideas\n",
    "   * Las diferencias no son solamente de vocabulario (Google Translate Sings)\n",
    "   * La forma de expresar las cosas varía según los idiomas "
   ]
  },
  {
   "cell_type": "markdown",
   "metadata": {
    "slideshow": {
     "slide_type": "notes"
    }
   },
   "source": [
    "Primero los idiomas humanos siempre me han fascinado y por eso de joven estudié español en mi escuela secundaria y después en la universidad estudié griego, latín, sánscrito, incluso los jeroglíficos egipcios así como otros idiomas, tanto antiguos como modernos. \n",
    "\n",
    "(todos sabemos que...)\n",
    "Los idiomas difieren entre sí en una fascinante variedad de formas. No es solamente en vocabulario - en cada idioma se puede decir cualquier idea, pero cada idioma tiene sus propias y diferentes maneras de expresar ideas, describir cosas, etc., y esa es la razón por la que traducir de un idioma a otro puede ser tan difícil.\n",
    "\n",
    "Por ejemplo, (no sé si ustedes lo conocen...) podrían ver los videos en el canal de YouTube \"Google Translate Sings\"  - allí la cantante usa Google Translate para traducir las letras de varias canciones populares de inglés a varios idiomas y finalmente de nuevo al inglés... y luego  canta las letras que resultan con la melodía original. El resultado (se pueden imaginar que) es divertido, es increíble, pero desde luego no es el original. \n"
   ]
  },
  {
   "cell_type": "markdown",
   "metadata": {
    "slideshow": {
     "slide_type": "slide"
    }
   },
   "source": [
    "### Los lenguajes de programación no son tan complejos<br> como los idiomas humanos, \n",
    "#### pero las siguientes cosas son ciertas en ambos \n",
    "\n",
    "* la estructura del lenguaje influye en cómo se puedan expresar las ideas\n",
    "* Sí, todo se puede decir en cualquier idioma, pero no en la misma manera"
   ]
  },
  {
   "cell_type": "markdown",
   "metadata": {
    "slideshow": {
     "slide_type": "notes"
    }
   },
   "source": [
    "(siguiendo con mi historia...)\n",
    "\n",
    "(A continuación) cuando empecé a escribir código, vi que en muchas maneras los lenguajes de programación son similares a los idiomas humanos.\n",
    "\n",
    "\n",
    "En general, se pueden codificar los mismos procesos y expresar las mismas ideas en cualquier lenguaje de programación, sin embargo, como en los idiomas humanos, en los lenguajes de programación existen muchas diferencias, no sólo en vocabulario, sino también en la estructura y las maneras de expresión. Y como en los idiomas humanos, no es sencillo traducir el código de un lenguaje a otro o aprender un nuevo lenguaje con fluidez.\n"
   ]
  },
  {
   "cell_type": "markdown",
   "metadata": {
    "slideshow": {
     "slide_type": "slide"
    }
   },
   "source": [
    "## Muchas veces nuestro código va mal...\n",
    "\n",
    "* valores incorrectos\n",
    "* lógica errónea\n",
    "* recursos que no están disponibles\n",
    "* Etc..."
   ]
  },
  {
   "cell_type": "markdown",
   "metadata": {
    "slideshow": {
     "slide_type": "notes"
    }
   },
   "source": [
    "(Mi intención) En esta charla es hablar sobre una manera en que los lenguajes difieren mucho. Quiero explicar cómo Python gestiona las situaciones que salen mal. \n",
    "\n",
    "Como todos sabemos, hay muchas cosas que pueden salir mal cuando ejecutamos nuestro código - se podría ingresar un valor mal, tal vez la lógica podría ser incorrecta, o quizás la máquina no tenga suficiente memoria o espacio en disco o lo que sea que necesite."
   ]
  },
  {
   "cell_type": "markdown",
   "metadata": {
    "slideshow": {
     "slide_type": "slide"
    }
   },
   "source": [
    "## También se podrían decir... \n",
    "* errores de compilación\n",
    "* errores de tiempo de ejecución\n",
    "* errores irrecuperables\n",
    "* errores recuperables \n",
    "* errores de sintaxis \n",
    "* errores de tipo \n",
    "* errores de recursos \n",
    "* errores de procesos externos\n"
   ]
  },
  {
   "cell_type": "markdown",
   "metadata": {
    "slideshow": {
     "slide_type": "notes"
    }
   },
   "source": [
    "Hay posibilidades casi ilimitadas de errores, y también existen muchas formas de clasificarlos. Sin embargo, lo interesante no son los errores en sí, sino... \n"
   ]
  },
  {
   "cell_type": "markdown",
   "metadata": {
    "slideshow": {
     "slide_type": "slide"
    }
   },
   "source": [
    "## ¿Cómo se manejan estos errores?\n",
    "En todo caso la manera en que un lenguaje maneja los errores es una parte importante de cómo funciona ese lenguaje; \n",
    "\n",
    "influye tanto en la estructura como en el flujo del código"
   ]
  },
  {
   "cell_type": "markdown",
   "metadata": {
    "slideshow": {
     "slide_type": "notes"
    }
   },
   "source": [
    "Cada lenguaje trata esos errores y esas situaciones a su  manera y tiene sus propias estructuras para hacerlo. Por eso, entender cómo un lenguaje maneja errores es muy importante para entender ese lenguaje y escribirlo con fluidez.\n",
    "\n",
    "Bien, espero que estén de acuerdo conmigo hasta aquí.\n",
    "\n",
    "A continuación y antes de hablar sobre Python, voy a decir un poco sobre algunos otros lenguajes populares y sus diferencias en la forma en que tratan los errores."
   ]
  },
  {
   "cell_type": "markdown",
   "metadata": {
    "slideshow": {
     "slide_type": "slide"
    }
   },
   "source": [
    "## perl - hazlo o muere\n",
    "\n",
    "```\n",
    "open(DATA, $file) || die \"Error: Couldn't open the file $!\";\n",
    "```\n",
    "\n",
    "```\n",
    "die \"Error: No puede cambiar directorio!: $!\" unless(chdir(\"/etc\"));\n",
    "```\n"
   ]
  },
  {
   "cell_type": "markdown",
   "metadata": {
    "slideshow": {
     "slide_type": "notes"
    }
   },
   "source": [
    "Primero tenemos un par de ejemplos de perl.\n",
    "Me gusta pensar en perl como un lenguaje de \"hacer o morir\". Bastante común en perl es el uso del comando \"die\" para avisar de un error y finalizar el programa. De verdad no es elegante esa manera de tratar los errores, pero sí es eficaz."
   ]
  },
  {
   "cell_type": "markdown",
   "metadata": {
    "slideshow": {
     "slide_type": "slide"
    }
   },
   "source": [
    "## Java\n",
    "\n",
    "* excepciones, pero también se usan muchas comprobaciones de valores y tipos\n",
    "* excepciones \"comprobadas\" (\"checked\")  y \"no comprobadas\" (\"unchecked\") \n",
    "\n"
   ]
  },
  {
   "cell_type": "markdown",
   "metadata": {
    "slideshow": {
     "slide_type": "fragment"
    }
   },
   "source": [
    "```\n",
    "public static void main(String[] args) { \n",
    "   try {\n",
    "      FileReader file = new FileReader(\"a.txt\"); \n",
    "      BufferedReader fileInput = new BufferedReader(file); \n",
    "          \n",
    "      // Print 3 lines \n",
    "      for (int counter = 0; counter < 3; counter++)  \n",
    "          System.out.println(fileInput.readLine()); \n",
    "          \n",
    "          fileInput.close(); \n",
    "   }\n",
    "      catch (IOException e) {\n",
    "         System.err.println(\"Caught IOException: \" + e.getMessage());\n",
    "      } \n",
    "   }\n",
    "```"
   ]
  },
  {
   "cell_type": "markdown",
   "metadata": {
    "slideshow": {
     "slide_type": "notes"
    }
   },
   "source": [
    "Java tiene un sistema complicado de excepciones, incluso \"excepciones comprobadas\" (que deben ser declaradas o capturadas en la función en que ocurren), y \"excepciones no comprobadas.\" En este ejemplo `IOException` es una excepción comprobada. En todo caso, Java no confía en excepciones, sino que se usan más comprobaciones de valores y tipos."
   ]
  },
  {
   "cell_type": "markdown",
   "metadata": {
    "slideshow": {
     "slide_type": "slide"
    }
   },
   "source": [
    "## Javascript\n",
    "* excepciones (6 tipos nativos)\n",
    "* pero *cualquier tipo* se puede lanzar como excepción\n",
    "\n"
   ]
  },
  {
   "cell_type": "markdown",
   "metadata": {
    "slideshow": {
     "slide_type": "fragment"
    }
   },
   "source": [
    "### Errors in Javascript\n",
    "\n",
    "```\n",
    "throw new Error();\n",
    "throw true;\n",
    "\n",
    "try{\n",
    "    //assuming \"mydiv\" is undefined\n",
    "    document.getElementById(\"mydiv\").innerHTML='Success' \n",
    "}\n",
    "catch(e){\n",
    "    //evals to true in this case\n",
    "    if (e.name.toString() == \"TypeError\"){ \n",
    "        //do something\n",
    "    }\n",
    "}\n",
    "```"
   ]
  },
  {
   "cell_type": "markdown",
   "metadata": {
    "slideshow": {
     "slide_type": "notes"
    }
   },
   "source": [
    "Javascript tiene 6 excepciones nativas y pueden ser heredadas en las subclases, pero cualquier valor se puede lanzar como excepción. Sin embargo capturar esos valores puede ser un poco complicado."
   ]
  },
  {
   "cell_type": "markdown",
   "metadata": {
    "slideshow": {
     "slide_type": "slide"
    }
   },
   "source": [
    "## Golang\n",
    "\n",
    "* devuelve el resultado y el error como valores separados "
   ]
  },
  {
   "cell_type": "markdown",
   "metadata": {
    "slideshow": {
     "slide_type": "fragment"
    }
   },
   "source": [
    "```\n",
    "var err error\n",
    "var a string\n",
    "a, err = GetA()\n",
    "if err == nil {\n",
    "   var b string\n",
    "   b, err = GetB(a)\n",
    "   if err == nil {\n",
    "      var c string\n",
    "      c, err = GetC(b)\n",
    "      if err == nil {\n",
    "         return c, nil\n",
    "      }\n",
    "   }\n",
    "}\n",
    "return nil, err\n",
    "```"
   ]
  },
  {
   "cell_type": "markdown",
   "metadata": {
    "slideshow": {
     "slide_type": "notes"
    }
   },
   "source": [
    "Por su parte Golang tiene un sistema bastante diferente al resto - las funciones devuelvan tanto un valor como un error y usted necesita verificar si se ha producido un error.  Además, en golang las excepciones no se lanzan automáticamente, todas las excepciones deben lanzarse explícitamente."
   ]
  },
  {
   "cell_type": "markdown",
   "metadata": {
    "slideshow": {
     "slide_type": "slide"
    }
   },
   "source": [
    "## Cada lenguaje tiene sus ventajas y sus desventajas... \n",
    "\n",
    "pero su enfoque respecto a los errores refleja su estructura."
   ]
  },
  {
   "cell_type": "markdown",
   "metadata": {
    "slideshow": {
     "slide_type": "notes"
    }
   },
   "source": [
    "Muy bien, entonces... "
   ]
  },
  {
   "cell_type": "markdown",
   "metadata": {
    "slideshow": {
     "slide_type": "slide"
    }
   },
   "source": [
    "## ¿Qué hay de Python?"
   ]
  },
  {
   "cell_type": "markdown",
   "metadata": {
    "slideshow": {
     "slide_type": "notes"
    }
   },
   "source": [
    "Hemos visto ejemplos de varios otros lenguajes, y vamos a ver ahora que Python tiene algunos aspectos en común con ellos, pero difiere en otros. \n",
    "\n",
    "En primer lugar... "
   ]
  },
  {
   "cell_type": "markdown",
   "metadata": {
    "slideshow": {
     "slide_type": "slide"
    }
   },
   "source": [
    "### Python prefiere manejar los errores en lugar de evitarlos\n",
    "\n",
    "* EAFP - Easier to Ask Forgiveness than Permission (más sencillo pedir perdón que permiso)\n",
    "* comparado con, por ejemplo, Java que es LBYL \"Look Before You Leap\" (piensa antes de actuar)"
   ]
  },
  {
   "cell_type": "markdown",
   "metadata": {
    "slideshow": {
     "slide_type": "notes"
    }
   },
   "source": [
    "El enfoque de Python de EAFP depende del poder de usar excepciones fácilmente y frecuentemente, diferente a otros lenguajes que confían en comprobación por adelantado (LBYL)"
   ]
  },
  {
   "cell_type": "markdown",
   "metadata": {
    "slideshow": {
     "slide_type": "slide"
    }
   },
   "source": [
    "## Este enfoque es ... \n",
    "* Más sencillo, el código es más fácil de leer\n",
    "* Duck typing\n",
    "* Tipado dinámico"
   ]
  },
  {
   "cell_type": "markdown",
   "metadata": {
    "slideshow": {
     "slide_type": "notes"
    }
   },
   "source": [
    "Y entonces lo que Python gana de este enfoque es un código más sencillo y más legible. El código que contiene muchas comprobaciones de operaciones y valores está saturado y es más difícil de leer.\n",
    "\n",
    "Además, Python es un lenguaje de tipado dinámico y depende de duck typing, que se refiere a la idea que si algo anda como un pato y suena como un pato, es probable que sea un pato... o al menos podemos tratarlo como un pato. Por eso verificar los tipos de variables no es útil y usar excepciones es más sencillo y más eficaz.\n",
    "\n",
    "Bueno, ahora miramos cómo las excepciones funcionan en Python. Por supuesto es probable que ustedes conozcan la sintaxis básica de excepciones de Python, pero para estar segura que todos empezamos del mismo lugar, quiero hablar de los conceptos básicos\n"
   ]
  },
  {
   "cell_type": "markdown",
   "metadata": {
    "slideshow": {
     "slide_type": "slide"
    }
   },
   "source": [
    "### Excepciones en Python\n",
    "\n",
    "`try:`\n",
    "\n",
    "    seguido por un bloque de código\n",
    "\n",
    "`except <Exception class> as e:`\n",
    "\n",
    "    bloque para manejar la excepción\n",
    "\n",
    "`else:`\n",
    "\n",
    "    bloque que se ejecutará a condición\n",
    "    de que una excepción no se lance\n",
    "\n",
    "`finally:`\n",
    "\n",
    "    bloque que siempre se ejecutará, \n",
    "    e.g., para cerrar un archivo\n",
    "\n",
    "Las excepciones también se pueden lanzar directamente:\n",
    "`raise <subclass de BaseException>`"
   ]
  },
  {
   "cell_type": "markdown",
   "metadata": {
    "slideshow": {
     "slide_type": "notes"
    }
   },
   "source": [
    "La primera parte de la estructura de excepciones es una cláusula `try` con un bloque que contiene el código en el que puede acontecer un error o una excepción que queremos manejar. Como mencionaré más adelante, este bloque debe ser bastante corto y los errores que esperamos deben ser bastante explícitos. \n",
    "\n",
    "La segunda parte es una cláusula (o más) `except` que específica la excepción (o excepciones) y que captura las excepciones especificadas, con el código que las maneja. Esto también debe ser breve y específico, y puede registrar el problema, intentar repararlo o lanzar la excepción a un nivel superior.\n",
    "\n",
    "La tercera parte es opcional, una cláusula `else` con código que se ejecute solamente si no se produce ninguna excepción. No es muy común, pero puede ser útil. \n",
    "\n",
    "Finalmente, puede ser una palabra clave `finally`, con un bloque que se ejecute cada vez que ocurra un error o no. Por ejemplo si el código en la cláusula `try` abriera un archivo, en la cláusula `finally` podría asegurar que el archivo se cerraría, en todo caso.\n",
    "\n",
    "Por supuesto se puede lanzar cualquier excepción en cualquier momento usando la palabra clave `raise`.  Sin embargo en  Python 3 solamente se pueden lanzar subclases de BaseException. "
   ]
  },
  {
   "cell_type": "code",
   "execution_count": 2,
   "metadata": {
    "scrolled": true,
    "slideshow": {
     "slide_type": "slide"
    }
   },
   "outputs": [
    {
     "name": "stdout",
     "output_type": "stream",
     "text": [
      "try - ejecutando código\n",
      "else - este se ejecuta si no se lanza ninguna exception\n",
      "finally - este se ejecuta siempre\n"
     ]
    }
   ],
   "source": [
    "try:\n",
    "    print(\"try - ejecutando código\")\n",
    "    #raise Exception\n",
    "\n",
    "except Exception as e:\n",
    "    print(\"except - en bloque de excepción\")\n",
    "\n",
    "else:\n",
    "    print(\"else - este se ejecuta si no se lanza ninguna exception\")\n",
    "\n",
    "finally:\n",
    "    print(\"finally - este se ejecuta siempre\")"
   ]
  },
  {
   "cell_type": "code",
   "execution_count": 3,
   "metadata": {
    "scrolled": true,
    "slideshow": {
     "slide_type": "slide"
    }
   },
   "outputs": [
    {
     "name": "stdout",
     "output_type": "stream",
     "text": [
      "try - ejecutando código\n",
      "except - en bloque de excepción\n",
      "finally - este se ejecuta siempre\n"
     ]
    }
   ],
   "source": [
    "try:\n",
    "    print(\"try - ejecutando código\")\n",
    "    raise Exception\n",
    "\n",
    "except Exception as e:\n",
    "    print(\"except - en bloque de excepción\")\n",
    "\n",
    "else:\n",
    "    print(\"else - este se ejecuta si no se lanza ninguna exception\")\n",
    "\n",
    "finally:\n",
    "    print(\"finally - este se ejecuta siempre\")"
   ]
  },
  {
   "cell_type": "markdown",
   "metadata": {
    "slideshow": {
     "slide_type": "notes"
    }
   },
   "source": [
    "Podemos experimentar un poco con este ejemplo. Tengan en cuenta que, si ninguna excepción se lanza los bloques de `try`, `else` y `finally` se ejecutan.\n",
    "\n",
    "Sin embargo, si se lanza una excepción el bloque de `try` se ejecutará solo hasta el lugar de la excepción, y después se ejecutarán los bloques de `except` y `finally`\n"
   ]
  },
  {
   "cell_type": "markdown",
   "metadata": {
    "slideshow": {
     "slide_type": "slide"
    }
   },
   "source": [
    "### Excepciones y herencia\n",
    "\n",
    "* las excepciones se convirtieron en clases en Python 1.5 (1997)\n",
    "* se pueden lanzar solamente objetos que son subclases de `BaseException` (desde Python 3)\n",
    "* la mayoría de las excepciones son subclases de `Exception`\n",
    "* si un cláusula `except` captura una clase, capturará las subclases de ella también\n",
    "* `except:` (sin excepción específica) captura `Exception`\n",
    "* `SystemExit`, `ExitGenerator`, y `KeyBoardInterrupt` heredan de `BaseException`, ya que usualmente no son adecuadas capturarse con `except:` sin excepción específica\n"
   ]
  },
  {
   "cell_type": "markdown",
   "metadata": {
    "slideshow": {
     "slide_type": "notes"
    }
   },
   "source": [
    "Todas las excepciones son clases (desde Python 1.5) y deben heredar de `BaseException` o (más común) de `Exception`. \n",
    "\n",
    "`except` capturará la excepción específicada y todas las subclases de ella. \n",
    "\n",
    "Un `except` sin excepción específicada capturará `Exception` y todas las demás excepciones excepto `SystemExit`, `ExitGenerator`, y `KeyBoardInterrupt` que heredan de `BaseException`\n"
   ]
  },
  {
   "cell_type": "code",
   "execution_count": 1,
   "metadata": {
    "scrolled": false,
    "slideshow": {
     "slide_type": "slide"
    }
   },
   "outputs": [
    {
     "name": "stdout",
     "output_type": "stream",
     "text": [
      "try - ejecutando código\n",
      "Excepción capturada: <class 'Exception'>\n"
     ]
    }
   ],
   "source": [
    "class MiExcepción(Exception):\n",
    "    pass\n",
    "\n",
    "\n",
    "try:\n",
    "    print(\"try - ejecutando código\")\n",
    "    raise Exception\n",
    "    #raise MiExcepción\n",
    "\n",
    "except Exception as e:\n",
    "#except MiExcepción as e:\n",
    "    print(\"Excepción capturada:\", type(e))"
   ]
  },
  {
   "cell_type": "code",
   "execution_count": 4,
   "metadata": {
    "scrolled": false,
    "slideshow": {
     "slide_type": "slide"
    }
   },
   "outputs": [
    {
     "name": "stdout",
     "output_type": "stream",
     "text": [
      "try - ejecutando código\n"
     ]
    },
    {
     "ename": "Exception",
     "evalue": "",
     "output_type": "error",
     "traceback": [
      "\u001b[0;31m---------------------------------------------------------------------------\u001b[0m",
      "\u001b[0;31mException\u001b[0m                                 Traceback (most recent call last)",
      "\u001b[0;32m<ipython-input-4-5341af9b2495>\u001b[0m in \u001b[0;36m<module>\u001b[0;34m()\u001b[0m\n\u001b[1;32m      5\u001b[0m \u001b[0;32mtry\u001b[0m\u001b[0;34m:\u001b[0m\u001b[0;34m\u001b[0m\u001b[0;34m\u001b[0m\u001b[0m\n\u001b[1;32m      6\u001b[0m     \u001b[0mprint\u001b[0m\u001b[0;34m(\u001b[0m\u001b[0;34m\"try - ejecutando código\"\u001b[0m\u001b[0;34m)\u001b[0m\u001b[0;34m\u001b[0m\u001b[0;34m\u001b[0m\u001b[0m\n\u001b[0;32m----> 7\u001b[0;31m     \u001b[0;32mraise\u001b[0m \u001b[0mException\u001b[0m\u001b[0;34m\u001b[0m\u001b[0;34m\u001b[0m\u001b[0m\n\u001b[0m\u001b[1;32m      8\u001b[0m     \u001b[0;31m#raise MiExcepción\u001b[0m\u001b[0;34m\u001b[0m\u001b[0;34m\u001b[0m\u001b[0;34m\u001b[0m\u001b[0m\n\u001b[1;32m      9\u001b[0m \u001b[0;34m\u001b[0m\u001b[0m\n",
      "\u001b[0;31mException\u001b[0m: "
     ]
    }
   ],
   "source": [
    "class MiExcepción(Exception):\n",
    "    pass\n",
    "\n",
    "\n",
    "try:\n",
    "    print(\"try - ejecutando código\")\n",
    "    raise Exception\n",
    "    #raise MiExcepción\n",
    "\n",
    "except MiExcepción as e:\n",
    "    print(\"Excepción capturada:\", type(e))"
   ]
  },
  {
   "cell_type": "markdown",
   "metadata": {
    "slideshow": {
     "slide_type": "notes"
    }
   },
   "source": [
    "Aquí podemos ver un ejemplo muy simple de como funciona la herencia. `MiExcepción` es una subclase de `Exception`. Cuando el `except` está esperando una `Exception` tanto `Exception` como `MiExcepción` se capturan. \n",
    "\n",
    "Pero si el `except` espera la subclase `MiExcepción`, excepciones de tipo `Exception` no se capturan.\n"
   ]
  },
  {
   "cell_type": "markdown",
   "metadata": {
    "slideshow": {
     "slide_type": "slide"
    }
   },
   "source": [
    "### Recuerden\n",
    "   * es fácil crear subclases específicas de excepciones pero las excepciones incorporadas son más sencillas y más robustas\n",
    "   * se debe intentar conseguir el mejor equilibrio entre legibilidad y funcionalidad\n"
   ]
  },
  {
   "cell_type": "markdown",
   "metadata": {
    "slideshow": {
     "slide_type": "notes"
    }
   },
   "source": []
  },
  {
   "cell_type": "markdown",
   "metadata": {
    "slideshow": {
     "slide_type": "slide"
    }
   },
   "source": [
    "## Recomendaciones generales para el uso de excepciones\n",
    "* Piense en qué excepciones se capturan y como se manejan \n",
    "* Considere con qué frecuencia ocurrirá la excepción\n",
    "* Use las excepciones incorporadas cuando sea apropiado\n"
   ]
  },
  {
   "cell_type": "markdown",
   "metadata": {
    "slideshow": {
     "slide_type": "notes"
    }
   },
   "source": [
    "En general, recomiendo que piensen en qué errores se esperan y en como se manejarán. También deben tener en cuenta que si muchas excepciones se esperan, tal vez el diseño no es óptimo... "
   ]
  },
  {
   "cell_type": "markdown",
   "metadata": {
    "slideshow": {
     "slide_type": "slide"
    }
   },
   "source": [
    "## Las excepciones ya no son solo para errores... \n",
    "\n"
   ]
  },
  {
   "cell_type": "markdown",
   "metadata": {
    "slideshow": {
     "slide_type": "notes"
    }
   },
   "source": [
    "Sin embargo, en Python hay excepciones que no tienen nada que ver con errores. "
   ]
  },
  {
   "cell_type": "markdown",
   "metadata": {
    "slideshow": {
     "slide_type": "slide"
    }
   },
   "source": [
    "## Gracias a la teoría de Harry Potter...\n",
    "\n",
    "\n",
    "*I'm sure that when J.K. Rowling wrote the first Harry Potter book (planning it as the first of a series of seven) she had developed a fairly good idea of what kind of things might eventually happen in the series, but she didn't have the complete plot lines for the remaining books worked out, nor did she have every detail decided of how magic works in her world.*\n",
    "\n",
    "*I'm also assuming that as she wrote successive volumes, she occasionally went back to earlier books, picked out a detail that at the time was given just to add color (or should I say colour :-) to the story, and gave it new significance...*\n",
    "\n",
    "*In a similar vein, I had never thought of iterators or generators when I came up with Python's for-loop, or using % as a string formatting operator, and as a matter of fact, using 'def' for defining both methods and functions was not part of the initial plan either (although I like it!).*\n",
    "\n",
    "\n",
    "\n",
    "~ Guido van Rossum, The Harry Potter Theory of Programming Language Design  - https://www.artima.com/weblogs/viewpost.jsp?thread=123234"
   ]
  },
  {
   "cell_type": "markdown",
   "metadata": {
    "slideshow": {
     "slide_type": "notes"
    }
   },
   "source": [
    "No voy a traducir este texto, es de un post escrito por Guido, el creador de Python, en 2005. Guido había estado leyendo la serie de libros de Harry Potter, y vio un paralelismo entre el desarrollo de una serie de libros y un lenguaje.\n",
    "\n",
    "En particular creía que tanto en la evolución de Python como en el desarrollo de la historia de Harry, varias características se produjeron para una función, pero al final se usa para propósitos totalmente diferentes, como, \"I had never thought of iterators or generators when I came up with Python's for-loop, or using % as a string formatting operator, and as a matter of fact, using 'def' for defining both methods and functions was not part of the initial plan either (although I like it!).\"\n",
    "\n",
    "Este es el caso con excepciones - se crearon para manejar los errores, pero hoy en día se usan para funciones que no tienen nada que ver con errores. Veamos si ustedes las conocen."
   ]
  },
  {
   "cell_type": "markdown",
   "metadata": {
    "slideshow": {
     "slide_type": "slide"
    }
   },
   "source": [
    "### Las excepciones se lanzan en todos los ejemplos abajo\n",
    "\n",
    "¿Cuántas ya conocen?\n",
    "\n",
    "¿Qué excepciones se lanzan?\n"
   ]
  },
  {
   "cell_type": "markdown",
   "metadata": {
    "slideshow": {
     "slide_type": "notes"
    }
   },
   "source": [
    "Vamos a ver varios ejemplos del uso de las excepciones en Python que no están causadas por errores.\n"
   ]
  },
  {
   "cell_type": "code",
   "execution_count": 5,
   "metadata": {
    "scrolled": true,
    "slideshow": {
     "slide_type": "slide"
    }
   },
   "outputs": [
    {
     "ename": "SystemExit",
     "evalue": "0",
     "output_type": "error",
     "traceback": [
      "An exception has occurred, use %tb to see the full traceback.\n",
      "\u001b[0;31mSystemExit\u001b[0m\u001b[0;31m:\u001b[0m 0\n"
     ]
    },
    {
     "name": "stderr",
     "output_type": "stream",
     "text": [
      "/home/naomi/.virtualenvs/jupyter3.7/lib/python3.7/site-packages/IPython/core/interactiveshell.py:2969: UserWarning: To exit: use 'exit', 'quit', or Ctrl-D.\n",
      "  warn(\"To exit: use 'exit', 'quit', or Ctrl-D.\", stacklevel=1)\n"
     ]
    }
   ],
   "source": [
    "import sys\n",
    "\n",
    "sys.exit(0)"
   ]
  },
  {
   "cell_type": "markdown",
   "metadata": {
    "slideshow": {
     "slide_type": "notes"
    }
   },
   "source": [
    "Bueno, empezamos con un ejemplo fácil, nivel uno... la función `sys.exit()` es bastante común, y casi todos la hemos usado. Pero qué excepción se lanza aquí?"
   ]
  },
  {
   "cell_type": "markdown",
   "metadata": {
    "slideshow": {
     "slide_type": "slide"
    }
   },
   "source": [
    "### SystemExit\n",
    "* `sys.exit()` lanza una excepción `SystemExit`\n",
    "* `raise SystemExit` tiene el mismo efecto que `sys.exit()`"
   ]
  },
  {
   "cell_type": "code",
   "execution_count": 6,
   "metadata": {
    "scrolled": true,
    "slideshow": {
     "slide_type": "fragment"
    }
   },
   "outputs": [
    {
     "ename": "SystemExit",
     "evalue": "0",
     "output_type": "error",
     "traceback": [
      "An exception has occurred, use %tb to see the full traceback.\n",
      "\u001b[0;31mSystemExit\u001b[0m\u001b[0;31m:\u001b[0m 0\n"
     ]
    },
    {
     "name": "stderr",
     "output_type": "stream",
     "text": [
      "/home/naomi/.virtualenvs/jupyter3.7/lib/python3.7/site-packages/IPython/core/interactiveshell.py:2969: UserWarning: To exit: use 'exit', 'quit', or Ctrl-D.\n",
      "  warn(\"To exit: use 'exit', 'quit', or Ctrl-D.\", stacklevel=1)\n"
     ]
    }
   ],
   "source": [
    "raise SystemExit(0)"
   ]
  },
  {
   "cell_type": "markdown",
   "metadata": {
    "slideshow": {
     "slide_type": "notes"
    }
   },
   "source": [
    "Sin embargo, `sys.exit()` no hace nada más que lanzar una excepción SystemExit que el intérprete captura.\n"
   ]
  },
  {
   "cell_type": "code",
   "execution_count": 7,
   "metadata": {
    "scrolled": false,
    "slideshow": {
     "slide_type": "slide"
    }
   },
   "outputs": [
    {
     "name": "stdout",
     "output_type": "stream",
     "text": [
      "1\n",
      "2\n",
      "3\n",
      "4\n"
     ]
    }
   ],
   "source": [
    "una_lista = [1, 2, 3, 4]\n",
    "\n",
    "for i in una_lista:\n",
    "    print(i)"
   ]
  },
  {
   "cell_type": "markdown",
   "metadata": {
    "slideshow": {
     "slide_type": "notes"
    }
   },
   "source": [
    "Aquí tenemos un bucle for y una iteración con una lista. No se ve, pero se lanza una excepción. Es un poco más difícil... ¿conocen qué excepción?"
   ]
  },
  {
   "cell_type": "markdown",
   "metadata": {
    "slideshow": {
     "slide_type": "slide"
    }
   },
   "source": [
    "### StopIteration\n",
    "\n",
    "* los iteradores lanzan una excepción StopIteration para indicar que están gastados.\n",
    "* algunos iterables con semántica de secuencia pueden lanzar una excepción IndexError para señalar al iterador que se llegó al final de la secuencia "
   ]
  },
  {
   "cell_type": "markdown",
   "metadata": {
    "slideshow": {
     "slide_type": "notes"
    }
   },
   "source": [
    "StopIteration es otra excepción usada para controlar el flujo del código. Todos los iteradores lanzan una excepción de este tipo como un señal para terminar la iteración. También algunos iterables con semántica de secuencia pueden lanzar una excepción IndexError para señalar al iterador que se llegó al final de la secuencia, y en ese caso serían dos excepciones."
   ]
  },
  {
   "cell_type": "code",
   "execution_count": 8,
   "metadata": {
    "scrolled": true,
    "slideshow": {
     "slide_type": "slide"
    }
   },
   "outputs": [
    {
     "name": "stdout",
     "output_type": "stream",
     "text": [
      "linea 1\n",
      "\n",
      "linea 2\n",
      "\n"
     ]
    }
   ],
   "source": [
    "for linea in open(\"archivo_texto.txt\"):\n",
    "    print(linea)"
   ]
  },
  {
   "cell_type": "markdown",
   "metadata": {
    "slideshow": {
     "slide_type": "notes"
    }
   },
   "source": [
    "Este caso parece ser bastante similar al anterior y se lanza una excepción StopIteration que termine la iteración. Pero esa no es la única excepción lanzada - otra excepción se lanza antes de la StopIteration. ¿Cuál es?"
   ]
  },
  {
   "cell_type": "markdown",
   "metadata": {
    "slideshow": {
     "slide_type": "slide"
    }
   },
   "source": [
    "### EOFError\n",
    "\n",
    "* leer un archivo cuando no hay más para leer lanza  una excepción `EOFError` "
   ]
  },
  {
   "cell_type": "markdown",
   "metadata": {
    "slideshow": {
     "slide_type": "notes"
    }
   },
   "source": [
    "Cada vez que se lee un archivo y no hay más que leer, se lanza una excepción EOFError que en este ejemplo causa que el iterador  termine la iteración "
   ]
  },
  {
   "cell_type": "code",
   "execution_count": 9,
   "metadata": {
    "scrolled": true,
    "slideshow": {
     "slide_type": "slide"
    }
   },
   "outputs": [
    {
     "name": "stdout",
     "output_type": "stream",
     "text": [
      "Got 1\n",
      "Got 2\n",
      "Todo hecho\n"
     ]
    }
   ],
   "source": [
    "def num_gen():\n",
    "    numeros = [1, 2, 3, 4]\n",
    "    for numero in numeros:\n",
    "        yield numero\n",
    "    print(\"Último numero enviado\")\n",
    "\n",
    "\n",
    "for numero in num_gen():\n",
    "    print(\"Got\", numero)\n",
    "    if numero == 2:\n",
    "        break \n",
    "\n",
    "print(\"Todo hecho\") "
   ]
  },
  {
   "cell_type": "markdown",
   "metadata": {
    "slideshow": {
     "slide_type": "notes"
    }
   },
   "source": [
    "en este ejemplo tenemos un generador que devuelve números de una lista. En tanto que un generador es un iterador, normalmente lanzaría una excepción StopIteration cuando termine, pero si el código saliera del bucle antes de que termine el generador, así... (Note que el mensaje \"Último número enviado\" no se muestra)\n",
    "\n",
    "... el generador se bloquearía después del último `yield`. Es posible que algo se debe hacer después de ese lugar - cerrar un archivo, liberar algunos recursos, lo que sea."
   ]
  },
  {
   "cell_type": "code",
   "execution_count": 10,
   "metadata": {
    "scrolled": false,
    "slideshow": {
     "slide_type": "slide"
    }
   },
   "outputs": [
    {
     "name": "stdout",
     "output_type": "stream",
     "text": [
      "Recebido: 1\n",
      "Recebido: 2\n",
      "GeneratorExit lanzada\n",
      "Todo hecho\n"
     ]
    }
   ],
   "source": [
    "def num_gen():\n",
    "    numeros = [1, 2, 3, 4]\n",
    "    try:\n",
    "        for numero in numeros:\n",
    "            yield numero\n",
    "    except GeneratorExit:\n",
    "        print(\"GeneratorExit lanzada\")\n",
    "        return\n",
    "    print(\"Último número enviado\")\n",
    "\n",
    "\n",
    "for numero in num_gen():\n",
    "    print(\"Recebido:\", numero)\n",
    "    if numero == 2:\n",
    "        break\n",
    "\n",
    "print(\"Todo hecho\")"
   ]
  },
  {
   "cell_type": "markdown",
   "metadata": {
    "slideshow": {
     "slide_type": "notes"
    }
   },
   "source": [
    "En este caso hay una solución - podemos capturar una excepción de tipo `GeneratorExit`, que se lanza después del último `yield`.\n",
    "\n",
    "Si no se captura explícitamente, esta excepción se pasará en silencio. "
   ]
  },
  {
   "cell_type": "markdown",
   "metadata": {
    "slideshow": {
     "slide_type": "slide"
    }
   },
   "source": [
    "### GeneratorExit\n",
    "\n",
    "* los generadores lanzan una excepción StopIteration cuando se han gastado, al igual que los otros iteradores\n",
    "* si un objeto generador no \"termina\", está bloqueado después del último `yield`...\n",
    "* y cuando el objeto generador está \"terminado\", `generator.close()` lanza una excepción `GeneratorExit` donde se ejecutó el último `yield`\n",
    "* Si no se captura explícitamente, esta excepción pasará en silencio."
   ]
  },
  {
   "cell_type": "markdown",
   "metadata": {
    "slideshow": {
     "slide_type": "slide"
    }
   },
   "source": [
    "### En Python, las excepciones se utilizan <br>como una forma de controlar el flujo\n",
    "\n",
    "Particularmente cuando...\n",
    "\n",
    "* se espera que la condición que causa la excepción sea muy poco frecuente en comparación con las otras condiciones\n",
    "* la condición que causa la excepción es bastante diferente de la condición normal\n",
    "* utilizar una excepción en lugar de comprobar la condición hace el código más simple"
   ]
  },
  {
   "cell_type": "markdown",
   "metadata": {
    "slideshow": {
     "slide_type": "notes"
    }
   },
   "source": [
    "El uso de excepciones como estas para controlar el flujo de ejecución puede parecer bastante raro y sorprendente a programadores de otros lenguajes, pero espero (gracias a Harry Potter) que ustedes crean que se ve Pythonico.... siempre y cuando la condición que causa la excepción sea poco frecuente, y sea bastante diferente de la condición normal. "
   ]
  },
  {
   "cell_type": "markdown",
   "metadata": {
    "slideshow": {
     "slide_type": "slide"
    }
   },
   "source": [
    "### Pero utilizar tantas excepciones es algo que parece malo...\n",
    "\n",
    "* ¿Usar excepciones no hace que el código sea más complejo? ¿y más difícil de entender?¿ y más difícil de probar?\n",
    "* ¿Usar muchas excepciones no afectará al rendimiento?\n"
   ]
  },
  {
   "cell_type": "markdown",
   "metadata": {
    "slideshow": {
     "slide_type": "notes"
    }
   },
   "source": [
    "Sin embargo, supongo que algunos de ustedes están pensando que usar tantas excepciones es simplemente incorrecto, y que hace que el código sea más complejo o más difícil de leer. O tal vez creen que las excepciones hacen que el código sea demasiado lento. Vamos a considerar estas preocupaciones ...\n",
    "\n"
   ]
  },
  {
   "cell_type": "markdown",
   "metadata": {
    "slideshow": {
     "slide_type": "slide"
    }
   },
   "source": [
    "### ¿Usar tantas excepciones es confuso o no legible o  malo de alguna manera?\n",
    "\n",
    "* Las excepciones son una parte tan integral de Python y tan común, que deben ser comprensibles\n",
    "* Utilizadas correctamente, las excepciones hacen que el código sea más fácil de leer\n"
   ]
  },
  {
   "cell_type": "markdown",
   "metadata": {
    "slideshow": {
     "slide_type": "notes"
    }
   },
   "source": [
    "Por supuesto, no sería Pythonico usar excepciones en todos los casos, y sí es posible confiar demasiado en excepciones y usarlas mal. Pero usadas correctamente las excepciones pueden hacer el código tanto más sencillo como más fácil de leer."
   ]
  },
  {
   "cell_type": "code",
   "execution_count": null,
   "metadata": {
    "scrolled": true,
    "slideshow": {
     "slide_type": "slide"
    }
   },
   "outputs": [],
   "source": [
    "# Avoiding exceptions\n",
    "\n",
    "for parametro in lista_de_parametros:\n",
    "    resultado = database.query_operation(parametro)\n",
    "    if resultado is not None:\n",
    "        print(resultado.count())\n",
    "    else:\n",
    "        continue"
   ]
  },
  {
   "cell_type": "markdown",
   "metadata": {
    "slideshow": {
     "slide_type": "notes"
    }
   },
   "source": [
    "Este ejemplo es una típica (y totalmente imaginaria) llamada a una base de datos. Noten que primero conseguimos el resultado, y después confirmamos que existe, y finalmente lo mostramos. Y no usamos ninguna excepción. Pero este código ni es Pythonico, ni es fácil de leer."
   ]
  },
  {
   "cell_type": "code",
   "execution_count": null,
   "metadata": {
    "scrolled": true,
    "slideshow": {
     "slide_type": "slide"
    }
   },
   "outputs": [],
   "source": [
    "# with exceptions\n",
    "for parametro in lista_de_parametros:\n",
    "    try:\n",
    "        print(database.query_operation(parametro).count())\n",
    "    except AttributeError:\n",
    "        continue"
   ]
  },
  {
   "cell_type": "markdown",
   "metadata": {
    "slideshow": {
     "slide_type": "notes"
    }
   },
   "source": [
    "Por otro lado, esta versión es más Pythonica y su propósito (mostrar la cuenta de resultados) está más claro, y el error potencial se maneja de forma más sencilla por el bloque de `except` ."
   ]
  },
  {
   "cell_type": "markdown",
   "metadata": {
    "slideshow": {
     "slide_type": "slide"
    }
   },
   "source": [
    "## ¿Qué hay de rendimiento?\n",
    "### ¿No son caras las excepciones?"
   ]
  },
  {
   "cell_type": "markdown",
   "metadata": {
    "slideshow": {
     "slide_type": "notes"
    }
   },
   "source": [
    "Hemos oído eso muchas veces... pero se han preguntado alguna vez se eso, ¿es cierto?"
   ]
  },
  {
   "cell_type": "markdown",
   "metadata": {
    "slideshow": {
     "slide_type": "slide"
    }
   },
   "source": [
    "### Sí las excepciones son un poco más lentas, pero... \n",
    "\n",
    "* son optimizadas y no son tan caras como, por ejemplo, a principios de C++\n",
    "* ocurren tan raramente que hay poco costo\n",
    "* en general, el código más Pythonico tiende a ejecutarse más rápido"
   ]
  },
  {
   "cell_type": "markdown",
   "metadata": {
    "slideshow": {
     "slide_type": "notes"
    }
   },
   "source": [
    "Por ejemplo veamos los siguientes fragmentos de código..."
   ]
  },
  {
   "cell_type": "code",
   "execution_count": 11,
   "metadata": {
    "slideshow": {
     "slide_type": "slide"
    }
   },
   "outputs": [],
   "source": [
    "def test_while_bucle():\n",
    "    i = 0\n",
    "\n",
    "    while i < 1000:\n",
    "        x = i * i\n",
    "        i += 1"
   ]
  },
  {
   "cell_type": "markdown",
   "metadata": {
    "slideshow": {
     "slide_type": "notes"
    }
   },
   "source": [
    "Esta función es muy básica y no tiene nada que ver con excepciones. Es solo un bucle while con una variable que se aumenta hasta l000. No es muy Pythonica, en verdad parece un código antiguo de C."
   ]
  },
  {
   "cell_type": "code",
   "execution_count": 12,
   "metadata": {
    "slideshow": {
     "slide_type": "slide"
    }
   },
   "outputs": [],
   "source": [
    "class Cuenta:\n",
    "    def __init__(self, cuenta):\n",
    "        self.cuenta = cuenta\n",
    "\n",
    "    def __getitem__(self, key):\n",
    "        if 0 < key < self.cuenta:\n",
    "            return key\n",
    "        else:\n",
    "            # lanza IndexError a iterador\n",
    "            raise IndexError\n",
    "\n",
    "\n",
    "def test_cuenta():\n",
    "    contador = Cuenta(1000)\n",
    "    # iterador lanza StopIteration para terminar iteración\n",
    "    for i in contador:\n",
    "        x = i * i "
   ]
  },
  {
   "cell_type": "markdown",
   "metadata": {
    "slideshow": {
     "slide_type": "notes"
    }
   },
   "source": [
    "Y este ejemplo es más complejo - se crea una clase que es un iterable simple, y ese iterable sigue la semántica de secuencia, es decir, cuando llega al final de sus elementos, lanza una excepción IndexError. \n",
    "\n",
    "Tiene también un bucle for con un iterador (que es Pythonico) que lanza otra excepción cuando se termina la iteración, una excepción StopIteration. Entonces este ejemplo, a pesar de ser más Pythonico, sin embargo contiene el doble de código y dos excepciones.\n",
    "\n",
    "Entonces, ¿qué creen ustedes? ¿Qué función es la más rápida? ¿La más simple? ¿O la más Pythonica? ¿Alguien quiere apostar? Pues, probémoslas."
   ]
  },
  {
   "cell_type": "code",
   "execution_count": 13,
   "metadata": {
    "scrolled": false,
    "slideshow": {
     "slide_type": "slide"
    }
   },
   "outputs": [
    {
     "name": "stdout",
     "output_type": "stream",
     "text": [
      "62.1 µs ± 1.95 µs per loop (mean ± std. dev. of 7 runs, 10000 loops each)\n",
      "465 ns ± 36.7 ns per loop (mean ± std. dev. of 7 runs, 1000000 loops each)\n"
     ]
    }
   ],
   "source": [
    "%timeit test_while_bucle()\n",
    "\n",
    "%timeit test_cuenta()"
   ]
  },
  {
   "cell_type": "markdown",
   "metadata": {
    "slideshow": {
     "slide_type": "notes"
    }
   },
   "source": [
    "Aquí estoy usando un \"magic\" de Jupyter Notebook que ejecuta la función timeit de Python ... tarda unos segundos ...\n",
    "\n",
    "Hmmm... resulta que la función más Pythonica y con dos excepciones es mucho más rápido, por dos órdenes de magnitud.\n",
    "\n",
    "(una razón es que el proceso de aumentarse la cuenta en la primera función requiere crear muchos objetos `int`  que es mucho más lento que una iteración Pythonica)"
   ]
  },
  {
   "cell_type": "markdown",
   "metadata": {
    "slideshow": {
     "slide_type": "slide"
    }
   },
   "source": [
    "## ¿Qué significa todo esto?\n",
    "\n",
    "* Python tiene un sistema rico y bien desarrollado de excepciones\n",
    "* Los errores se pueden especificar y manejar según su jerarquía de herencia\n",
    "* Las excepciones se usan en Python también para controlar el flujo, no solo para errores\n",
    "* Como un lenguaje interpretado y de tipado dínámico, Python es adecuado para manejar excepciones y recuperarse de ellas\n",
    "* El código más Pythonico muchas veces es más rápido\n"
   ]
  },
  {
   "cell_type": "markdown",
   "metadata": {
    "slideshow": {
     "slide_type": "notes"
    }
   },
   "source": [
    "Entonces, hay varias observaciones...\n",
    "\n",
    "* Python tiene un sistema rico y bien desarrollado de excepciones\n",
    "* Los errores se pueden especificar y manejar según su jerarquía de herencia\n",
    "* Las excepciones se usan en Python también para controlar el flujo, no solo para errores\n",
    "* Como un lenguaje interpretado y de tipado dínámico, Python es adecuado para manejar excepciones y recuperarse de ellas\n",
    "* El código más Pythonico muchas, muchas veces es más rápido"
   ]
  },
  {
   "cell_type": "markdown",
   "metadata": {
    "slideshow": {
     "slide_type": "slide"
    }
   },
   "source": [
    "## Es más Pythonico usar excepciones <br>que comprobar tipos, resultados, etc\n",
    "\n",
    "### Recomendaciones\n",
    "\n",
    "en general, se prefiere capturar una excepción que comprobar un resultado si:\n",
    "* la excepción se espera que sea infrecuente\n",
    "* la excepción es específica\n",
    "* el código es así más fácil de leer..."
   ]
  },
  {
   "cell_type": "markdown",
   "metadata": {
    "slideshow": {
     "slide_type": "notes"
    }
   },
   "source": [
    "Es más Pythonico usar excepciones en las siguientes condiciones - si esperamos que las excepciones sean poco frecuentes (muchas excepciones harán más lento su código); si las excepciónes son específicas; o si usar un excepción hace que el código sea más sencillo y fácil de leer.\n",
    "\n",
    "Así que, en conclusión, podemos afirmar, como decíamos al principio de la charla, que:"
   ]
  },
  {
   "cell_type": "markdown",
   "metadata": {
    "slideshow": {
     "slide_type": "slide"
    }
   },
   "source": [
    "\n",
    "## Sí, (en Python) en verdad es más sencillo pedir perdón que permiso"
   ]
  },
  {
   "cell_type": "markdown",
   "metadata": {
    "slideshow": {
     "slide_type": "notes"
    }
   },
   "source": [
    "Muchas gracias a todos por escucharme, Espero que hayan encontrado algo útil en esta charla. "
   ]
  },
  {
   "cell_type": "markdown",
   "metadata": {
    "slideshow": {
     "slide_type": "slide"
    }
   },
   "source": [
    "# ¡Gracias!\n",
    "\n",
    "Las diapos (y el archivo de jupyter notebook) están en https://github.com/nceder/pyconlatam)\n",
    "\n",
    "### ¿Preguntas?"
   ]
  },
  {
   "cell_type": "markdown",
   "metadata": {
    "slideshow": {
     "slide_type": "notes"
    }
   },
   "source": [
    "Las diapos están aquí... y, por supuesto, si tienen alguna pregunta estaré encantada de contestarles. (Anímense y no sean tímidos)\n",
    "\n",
    "¿hay preguntas?"
   ]
  }
 ],
 "metadata": {
  "celltoolbar": "Slideshow",
  "kernelspec": {
   "display_name": "Python 3.7",
   "language": "python",
   "name": "python3.7"
  },
  "language_info": {
   "codemirror_mode": {
    "name": "ipython",
    "version": 3
   },
   "file_extension": ".py",
   "mimetype": "text/x-python",
   "name": "python",
   "nbconvert_exporter": "python",
   "pygments_lexer": "ipython3",
   "version": "3.7.3"
  },
  "livereveal": {
   "scroll": true,
   "start_slideshow_at": "selected",
   "theme": "white",
   "transition": "none"
  },
  "toc": {
   "nav_menu": {},
   "number_sections": false,
   "sideBar": false,
   "skip_h1_title": false,
   "toc_cell": true,
   "toc_position": {
    "height": "40px",
    "left": "13px",
    "right": "20px",
    "top": "115px",
    "width": "212px"
   },
   "toc_section_display": "block",
   "toc_window_display": false
  }
 },
 "nbformat": 4,
 "nbformat_minor": 2
}
