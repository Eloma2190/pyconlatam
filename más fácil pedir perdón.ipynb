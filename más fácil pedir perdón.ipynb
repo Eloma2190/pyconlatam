{
 "cells": [
  {
   "cell_type": "markdown",
   "metadata": {
    "slideshow": {
     "slide_type": "slide"
    }
   },
   "source": [
    "# En verdad es más fácil pedir perdón que permiso\n",
    "\n",
    "### PyCon Latam\n",
    "\n",
    "\n",
    "**Naomi Ceder, @naomiceder**\n",
    "\n",
    "- **Chair, Python Software Foundation**\n",
    "- **Quick Python Book, 3rd ed**\n",
    "- **Dick Blick Art Materials**\n",
    "\n"
   ]
  },
  {
   "cell_type": "markdown",
   "metadata": {
    "slideshow": {
     "slide_type": "notes"
    }
   },
   "source": [
    "Hola, estoy muy feliz... feliz de estar aquí en la primera PyCon LatAm, feliz de presentar una charla, y especialmente feliz de dar mi charla en español. La última vez que visité México, para PythonDay 2018, no pude dar mi charla en español, pero desde el año pasado he estudiado mucho y creo que mi español ha mejorado.  De hecho esta es mi segunda charla en español y con su apoyo espero dar muchas más en el futuro. En todo caso, por favor perdonenmen por mis errores.\n",
    "\n"
   ]
  },
  {
   "cell_type": "markdown",
   "metadata": {
    "slideshow": {
     "slide_type": "slide"
    }
   },
   "source": [
    "## Introducción\n",
    "\n",
    "* Soy una entusiasta de los idiomas humanos - <br>y de los lenguajes de programación también\n",
    "* Cada idioma tiene sus propias formas de expresar  ideas\n",
    "   * Las diferencias no son solamente de vocabulario (Google Translate Sings)\n",
    "   * La forma de expresar las cosas varía según los idiomas "
   ]
  },
  {
   "cell_type": "markdown",
   "metadata": {
    "slideshow": {
     "slide_type": "notes"
    }
   },
   "source": [
    "Primero siempre los idiomas humanos me han fascinado y por eso de joven estudié español en mi escuela secundaria y después en mi universidad también estudié griego, latín, sánscrito, incluso los jeroglíficos egipcios así como varios otros idiomas tanto antiguos como modernos. \n",
    "\n",
    "(todos sabemos que...)\n",
    "Los idiomas difieren entre sí en una fascinante variedad de formas. No es solamente en vocabulario - en cada idioma se puede decir cualquier idea, pero cada idioma tiene sus propias y diferentes maneras de expresar ideas, describir cosas, etc., y esa es la razón por la que traducir de un idioma a otro puede ser tan difícil.\n",
    "\n",
    "Por ejemplo, (no sé si ustedes conocen...) podrían ver los videos en el canal de YouTube \"Google Translate Sings\"  - allí la cantante usa Google Translate para traducir las letras de varias canciones populares de inglés a varios idiomas y finalmente de nuevo al inglés... y luego ella canta las letras que resultan con la melodía original. El resultado (se pueden imaginar que) es divertido, es increíble, pero desde luego no es el original. \n"
   ]
  },
  {
   "cell_type": "markdown",
   "metadata": {
    "slideshow": {
     "slide_type": "slide"
    }
   },
   "source": [
    "### Los lenguajes de programación no son tan complejos<br> como los idiomas humanos, \n",
    "#### pero las siguientes cosas son ciertas en ambos \n",
    "\n",
    "* la estructura del lenguaje influye en cómo se puedan expresar las ideas\n",
    "* Sí, todo se puede decir en cualquier idioma, pero no en la misma manera"
   ]
  },
  {
   "cell_type": "markdown",
   "metadata": {
    "slideshow": {
     "slide_type": "notes"
    }
   },
   "source": [
    "(siguiendo con mi historia...)\n",
    "\n",
    "(A continuación) cuando empecé a escribir código, vi que en muchas maneras los lenguajes de programación son similares a idiomas humanos.\n",
    "\n",
    "\n",
    "En general, se puede codificar los mismos procesos y expresar las mismas ideas en cualquier lenguaje de programación, sin embargo, como en los idiomas humanos, en los lde programación existen muchas diferencias, no sólo en vocabulario, sino también en estructura y las maneras de expresión. Y como en los idiomas humanos, no es sencillo traducir el código de un lenguaje a otro o aprender un nuevo lenguaje con fluidez.\n"
   ]
  },
  {
   "cell_type": "markdown",
   "metadata": {
    "slideshow": {
     "slide_type": "slide"
    }
   },
   "source": [
    "## Muchas veces nuestro código va mal...\n",
    "\n",
    "* valores malos\n",
    "* lógica mala\n",
    "* recursos que no están disponibles\n",
    "* Etc..."
   ]
  },
  {
   "cell_type": "markdown",
   "metadata": {
    "slideshow": {
     "slide_type": "notes"
    }
   },
   "source": [
    "(Mi intención) En esta charla quiero hablar sobre una manera en que los lenguajes difieren mucho. Quiero explicar cómo Python gestiona las situaciones que salen mal. \n",
    "\n",
    "Como todos sabemos, hay muchas cosas que pueden salir mal cuando ejecutamos nuestro código - se podría ingresar un valor malo, tal vez la lógica podría ser incorrecto, o quizás la máquina no tenga suficiente memoria o espacio en disco o lo que sea que necesite."
   ]
  },
  {
   "cell_type": "markdown",
   "metadata": {
    "slideshow": {
     "slide_type": "slide"
    }
   },
   "source": [
    "## También se podrían decir... \n",
    "* errores de compilación\n",
    "* errores de tiempo de ejecución\n",
    "* errores inrecuperables\n",
    "* errores recuperables \n",
    "* errores de sintaxis \n",
    "* errores de tipo \n",
    "* errores de recursos \n",
    "* errores de procesos externos\n"
   ]
  },
  {
   "cell_type": "markdown",
   "metadata": {
    "slideshow": {
     "slide_type": "notes"
    }
   },
   "source": [
    "Hay posibilidades casi ilimitadas de errores, y también existen muchas formas de clasificarlos.\n"
   ]
  },
  {
   "cell_type": "markdown",
   "metadata": {
    "slideshow": {
     "slide_type": "slide"
    }
   },
   "source": [
    "## ¿Cómo se manejan estos errores?\n",
    "En todo caso la manera en que un lenguaje maneja los errores es una parte importante de cómo funciona ese lenguaje; \n",
    "\n",
    "influye tanto en la estructura como en el flujo del código"
   ]
  },
  {
   "cell_type": "markdown",
   "metadata": {
    "slideshow": {
     "slide_type": "notes"
    }
   },
   "source": [
    "Cada lenguaje trata esos errores y esas situaciones a su  manera y tiene sus propias estructuras para hacerlo. Por eso, entender cómo un lenguaje maneja errores es muy importante para entender ese lenguaje y escribirlo con fluidez.\n",
    "\n",
    "Antes de hablar sobre Python, voy a decir un poco sobre algunos otros lenguajes populares y sus diferencias en la forma en que tratan los errores."
   ]
  },
  {
   "cell_type": "markdown",
   "metadata": {
    "slideshow": {
     "slide_type": "slide"
    }
   },
   "source": [
    "## perl - hazlo o muere\n",
    "\n",
    "```\n",
    "open(DATA, $file) || die \"Error: Couldn't open the file $!\";\n",
    "```\n",
    "\n",
    "```\n",
    "die \"Error: No puede cambiar directorio!: $!\" unless(chdir(\"/etc\"));\n",
    "```\n"
   ]
  },
  {
   "cell_type": "markdown",
   "metadata": {
    "slideshow": {
     "slide_type": "notes"
    }
   },
   "source": [
    "Me gusta pensar en perl como un lenguaje de \"hacer o morir\". Bastante común en perl es el uso del comando \"die\" para avisar de un error y finalizar el programa. De verdad no es elegante, pero sí es efectivo."
   ]
  },
  {
   "cell_type": "markdown",
   "metadata": {
    "slideshow": {
     "slide_type": "slide"
    }
   },
   "source": [
    "## Java\n",
    "\n",
    "* excepciones, pero también se usan muchas comprobaciones de valores y tipos\n",
    "* excepciones \"comprobadas\" (\"checked\")  y \"no comprobadas\" (\"unchecked\") \n",
    "\n"
   ]
  },
  {
   "cell_type": "markdown",
   "metadata": {
    "slideshow": {
     "slide_type": "fragment"
    }
   },
   "source": [
    "```\n",
    "public static void main(String[] args) { \n",
    "   try {\n",
    "      FileReader file = new FileReader(\"a.txt\"); \n",
    "      BufferedReader fileInput = new BufferedReader(file); \n",
    "          \n",
    "      // Print 3 lines \n",
    "      for (int counter = 0; counter < 3; counter++)  \n",
    "          System.out.println(fileInput.readLine()); \n",
    "          \n",
    "          fileInput.close(); \n",
    "   }\n",
    "      catch (IOException e) {\n",
    "         System.err.println(\"Caught IOException: \" + e.getMessage());\n",
    "      } \n",
    "   }\n",
    "```"
   ]
  },
  {
   "cell_type": "markdown",
   "metadata": {
    "slideshow": {
     "slide_type": "notes"
    }
   },
   "source": [
    "Java tiene un sistema complicado de excepciones, incluso \"excepciones comprobadas\" (que deben ser declaradas o capturadas en la función en que ocuren), y \"excepciones no comprobadas\" "
   ]
  },
  {
   "cell_type": "markdown",
   "metadata": {
    "slideshow": {
     "slide_type": "slide"
    }
   },
   "source": [
    "## Javascript\n",
    "* excepciones (6 tipos nativos)\n",
    "* pero *cualquier tipo* se puede lanzar como excepcion\n",
    "\n"
   ]
  },
  {
   "cell_type": "markdown",
   "metadata": {
    "slideshow": {
     "slide_type": "fragment"
    }
   },
   "source": [
    "### Errors in Javascript\n",
    "\n",
    "```\n",
    "throw new Error();\n",
    "throw true;\n",
    "\n",
    "try{\n",
    "    //assuming \"mydiv\" is undefined\n",
    "    document.getElementById(\"mydiv\").innerHTML='Success' \n",
    "}\n",
    "catch(e){\n",
    "    //evals to true in this case\n",
    "    if (e.name.toString() == \"TypeError\"){ \n",
    "        //do something\n",
    "    }\n",
    "}\n",
    "```"
   ]
  },
  {
   "cell_type": "markdown",
   "metadata": {
    "slideshow": {
     "slide_type": "notes"
    }
   },
   "source": [
    "Javascript tiene 6 excepciones nativas y pueden ser heredadas en las subclases, pero cualquier valor se puede lanza como excepción. Sin embargo capturar esos valores puede ser un poco complicado."
   ]
  },
  {
   "cell_type": "markdown",
   "metadata": {
    "slideshow": {
     "slide_type": "slide"
    }
   },
   "source": [
    "## Golang\n",
    "\n",
    "* devuelve el resultado y el error como valores separados "
   ]
  },
  {
   "cell_type": "markdown",
   "metadata": {
    "slideshow": {
     "slide_type": "fragment"
    }
   },
   "source": [
    "```\n",
    "var err error\n",
    "var a string\n",
    "a, err = GetA()\n",
    "if err == nil {\n",
    "   var b string\n",
    "   b, err = GetB(a)\n",
    "   if err == nil {\n",
    "      var c string\n",
    "      c, err = GetC(b)\n",
    "      if err == nil {\n",
    "         return c, nil\n",
    "      }\n",
    "   }\n",
    "}\n",
    "return nil, err\n",
    "```"
   ]
  },
  {
   "cell_type": "markdown",
   "metadata": {
    "slideshow": {
     "slide_type": "notes"
    }
   },
   "source": [
    "Golang tiene un sistema completamente diferente - las funciones devuelvan tanto un valor como un error y usted necesita verificar si se ha producido un error.  Además, en golang las excepciones no se lanzan automáticamente, todas las excepciones deben lanzarse explícitamente."
   ]
  },
  {
   "cell_type": "markdown",
   "metadata": {
    "slideshow": {
     "slide_type": "slide"
    }
   },
   "source": [
    "## Cada lenguaje tiene sus ventajas y sus desventajas... \n",
    "\n",
    "pero su enfoque respecto a los errores refleja su estructura."
   ]
  },
  {
   "cell_type": "markdown",
   "metadata": {
    "slideshow": {
     "slide_type": "slide"
    }
   },
   "source": [
    "## ¿Qué hay de Python?"
   ]
  },
  {
   "cell_type": "markdown",
   "metadata": {
    "slideshow": {
     "slide_type": "notes"
    }
   },
   "source": [
    "Hemos visto varios otros lenguajes, y Python tiene algunos aspectos en común con ellos, pero defiere en otros."
   ]
  },
  {
   "cell_type": "markdown",
   "metadata": {
    "slideshow": {
     "slide_type": "slide"
    }
   },
   "source": [
    "### Python prefiere manejar los errores en lugar de evitarlos\n",
    "\n",
    "* EAFP - Easier to Ask Forgiveness than Permission (más sencillo pedir perdón que permiso)\n",
    "* comparado con, por ejemplo, Java que es LBYL \"Look Before You Leap\" (piensa antes de actuar)"
   ]
  },
  {
   "cell_type": "markdown",
   "metadata": {
    "slideshow": {
     "slide_type": "notes"
    }
   },
   "source": [
    "El enfoque de Python de EAFP depende del poder de usar excepciones fácilmente y frecuentemente, diferente a otros lenguajes que confían en comprobación por adelantado (LBYL)"
   ]
  },
  {
   "cell_type": "markdown",
   "metadata": {
    "slideshow": {
     "slide_type": "slide"
    }
   },
   "source": [
    "## Este enfoque es ... \n",
    "* Más sencillo, el código es más fácil de leer\n",
    "* Duck typing (tipado de pato)\n",
    "* Tipado dinámico"
   ]
  },
  {
   "cell_type": "markdown",
   "metadata": {
    "slideshow": {
     "slide_type": "notes"
    }
   },
   "source": [
    "Y entonces lo que Python gana de este enfoque es un código que es más sencillo y más legible. El código que contiene muchas comprobaciones de operaciones y valores es abarrotado y más difícil de leer porque no es sencillo a ver que hace el código en vez de qué comprueba.\n",
    "\n",
    "Además, Python es un lenguaje de tipado dinámico y depende de duck typing, que se refiere a la idea que si algo anda como un pato y suena como un pato, es probable que sea un pato... o al menos podemos tratarlo como un pato. Por eso verificar los tipos de variables no es útil y usar excepciones es más sencillo y más eficaz.\n",
    "\n",
    "Bueno, miramos a cómo las excepciones funcionan en Python. Por supuesto es probable que ustedes conozcan la sintaxis básica de excepciones de Python, pero para estar segura que todos empezamos del mismo lugar, quiero hablar de los conceptos básicos\n"
   ]
  },
  {
   "cell_type": "markdown",
   "metadata": {
    "slideshow": {
     "slide_type": "slide"
    }
   },
   "source": [
    "### Excepciones en Python\n",
    "\n",
    "`try:`\n",
    "\n",
    "    seguido por un bloque de código\n",
    "\n",
    "`except <Exception class> as e:`\n",
    "\n",
    "    bloque para manejar la ecepción\n",
    "\n",
    "`else:`\n",
    "\n",
    "    bloque que se ejecutará a condición\n",
    "    de que una excepción no se lance\n",
    "\n",
    "`finally:`\n",
    "\n",
    "    bloque que siempre se ejecutará, \n",
    "    e.g., para cerrar un archivo\n",
    "\n",
    "Las excepciones también se pueden lanzar directamente:\n",
    "`raise <subclass de BaseException>`"
   ]
  },
  {
   "cell_type": "markdown",
   "metadata": {
    "slideshow": {
     "slide_type": "notes"
    }
   },
   "source": [
    "La primera parte de la estructura de excepciones es una cláusula `try` con un bloque que contiene el código en el que se puede acontecer un error y una excepción que queríamos manejar. Como mencionaré más adelante, este bloque debe ser bastante corto y los errores que esperamos deben ser bastante explícitos. \n",
    "\n",
    "La segunda parte es una cláusula (o más) `except` que específica la excepción (o excepciones) captura las excepciones especificadas, con el código que las maneja. Esto también debe ser breve y específico, y puede registrar el problema, intentar repararlo o lanzar la excepción a un nivel superior.\n",
    "\n",
    "La tercera parte es opcional, una cláusula `else` con código que ejecute solamente si no se produce ninguna excepción. No es muy común, pero puede ser útil. \n",
    "\n",
    "Finalmente, puede ser una palabra clave `finally`, con un bloque que ejecute cada vez que ocura un error o no. Por ejemplo si el código en la cláusula `try` abriera un archivo, en la cláusula `finally` podría asegurar que el archive se cerraría, en todo caso.\n",
    "\n",
    "Por supuesto se puede lanzar cualquier excepción en cualquier momento usando la palabra clave `raise`.  Sin embargo en  Python 3 solamente subclases de BaseException se pueden lanzar. "
   ]
  },
  {
   "cell_type": "code",
   "execution_count": 24,
   "metadata": {
    "scrolled": true,
    "slideshow": {
     "slide_type": "slide"
    }
   },
   "outputs": [
    {
     "name": "stdout",
     "output_type": "stream",
     "text": [
      "try - ejecutando código\n",
      "else - este se ejecuta si no exception\n",
      "finally - este se ejecuta siempre\n"
     ]
    }
   ],
   "source": [
    "try:\n",
    "    print(\"try - ejecutando código\")\n",
    "    #raise Exception\n",
    "    \n",
    "except Exception as e:\n",
    "    print(\"except - en bloque de excepción\")\n",
    "\n",
    "else:\n",
    "    print(\"else - este se ejecuta si no exception\")\n",
    "    \n",
    "finally:\n",
    "    print(\"finally - este se ejecuta siempre\")\n",
    "    \n"
   ]
  },
  {
   "cell_type": "markdown",
   "metadata": {
    "slideshow": {
     "slide_type": "notes"
    }
   },
   "source": [
    "Podemos experimentar un poco con este ejemplo. Tengan en cuenta que, si ninguna excepción se lanza los bloques de `try`, `else` y `finally` se ejecutan.\n",
    "\n",
    "Sin embargo, si se lanza una excepción el bloque de `try` se ejecutará solo hasta el lugar de la excepción, y después se ejecutarán los bloques de `except` y `finally`\n"
   ]
  },
  {
   "cell_type": "markdown",
   "metadata": {
    "slideshow": {
     "slide_type": "slide"
    }
   },
   "source": [
    "### Excepciones y herencia\n",
    "\n",
    "* las excepciones se convirtieron en clases en Python 1.5 (1997)\n",
    "* se pueden lanzar solamente objetos que son subclases de `BaseException` (desde Python 3)\n",
    "* la mayoría de las excepciones son subclases de `Exception`\n",
    "* `except:` (sin excepción específica) captura `Exception`\n",
    "* `SystemExit`, `ExitGenerator`, y `KeyBoardInterrupt` hereda de `BaseException`, ya que usualmente no son adecuadas capturarse con `except:` sin excepción específica\n",
    "* con herencia se puede capturar excepciones con más precisión"
   ]
  },
  {
   "cell_type": "markdown",
   "metadata": {
    "slideshow": {
     "slide_type": "notes"
    }
   },
   "source": [
    "Todas las excepciones son clases (desde Python 1.5) y deben heredar de `BaseException` o (más común) de `Exception`. \n",
    "\n",
    "Este sistema de herencia hace las excepciones de Python ya más útil, porque es sencillo crear una jerarquía de excepciones personalizadas a su aplicación.\n"
   ]
  },
  {
   "cell_type": "code",
   "execution_count": null,
   "metadata": {
    "slideshow": {
     "slide_type": "slide"
    }
   },
   "outputs": [],
   "source": [
    "### Exception Class Hierarchy\n",
    "\"\"\"\n",
    "BaseException\n",
    " +-- SystemExit\n",
    " +-- KeyboardInterrupt\n",
    " +-- GeneratorExit\n",
    " +-- Exception\n",
    "      +-- StopIteration\n",
    "      +-- StopAsyncIteration\n",
    "      +-- ArithmeticError\n",
    "      |    +-- FloatingPointError\n",
    "      |    +-- OverflowError\n",
    "      |    +-- ZeroDivisionError\n",
    "      +-- AssertionError\n",
    "      +-- AttributeError\n",
    "      +-- BufferError\n",
    "      +-- EOFError\n",
    "      +-- ImportError\n",
    "      |    +-- ModuleNotFoundError\n",
    "      +-- LookupError\n",
    "      |    +-- IndexError\n",
    "      |    +-- KeyError\n",
    "      +-- MemoryError\n",
    "      +-- NameError\n",
    "      |    +-- UnboundLocalError\n",
    "      +-- OSError\n",
    "      |    +-- BlockingIOError\n",
    "      |    +-- ChildProcessError\n",
    "      |    +-- ConnectionError\n",
    "      |    |    +-- BrokenPipeError\n",
    "      |    |    +-- ConnectionAbortedError\n",
    "      |    |    +-- ConnectionRefusedError\n",
    "      |    |    +-- ConnectionResetError\n",
    "      |    +-- FileExistsError\n",
    "      |    +-- FileNotFoundError\n",
    "      |    +-- InterruptedError\n",
    "      |    +-- IsADirectoryError\n",
    "      |    +-- NotADirectoryError\n",
    "      |    +-- PermissionError\n",
    "      |    +-- ProcessLookupError\n",
    "      |    +-- TimeoutError\n",
    "      +-- ReferenceError\n",
    "      +-- RuntimeError\n",
    "      |    +-- NotImplementedError\n",
    "      |    +-- RecursionError\n",
    "      +-- SyntaxError\n",
    "      |    +-- IndentationError\n",
    "      |         +-- TabError\n",
    "      +-- SystemError\n",
    "      +-- TypeError\n",
    "      +-- ValueError\n",
    "      |    +-- UnicodeError\n",
    "      |         +-- UnicodeDecodeError\n",
    "      |         +-- UnicodeEncodeError\n",
    "      |         +-- UnicodeTranslateError\n",
    "      +-- Warning\n",
    "           +-- DeprecationWarning\n",
    "           +-- PendingDeprecationWarning\n",
    "           +-- RuntimeWarning\n",
    "           +-- SyntaxWarning\n",
    "           +-- UserWarning\n",
    "           +-- FutureWarning\n",
    "           +-- ImportWarning\n",
    "           +-- UnicodeWarning\n",
    "           +-- BytesWarning\n",
    "           +-- ResourceWarning\n",
    "\"\"\""
   ]
  },
  {
   "cell_type": "markdown",
   "metadata": {
    "slideshow": {
     "slide_type": "notes"
    }
   },
   "source": [
    "Esta es la jerarquía completa de excepciones en Python 3. No se preocupen con los detalles, en el momento es suficiente notar que hay muchas (64 actualmente, pero en Python 3.8 con el operador de morsa hará 65) excepciones y como ya he dicho todas las otras son subclases de BaseException, y salvo tres, son subclases de Exception. \n"
   ]
  },
  {
   "cell_type": "markdown",
   "metadata": {
    "slideshow": {
     "slide_type": "slide"
    }
   },
   "source": [
    "### Herencia con excepciones\n",
    "\n",
    "* es sencillo haber excepciones específicas a un módulo o paquete\n",
    "* ellas son adecuadas a procesos largos, caros, o propensos a errores\n",
    "* los errores dentro de una cadena de funciones y/o clases se pueden capturar con más precisión"
   ]
  },
  {
   "cell_type": "markdown",
   "metadata": {
    "slideshow": {
     "slide_type": "notes"
    }
   },
   "source": [
    "En verdad las ventajas de usar herencia con excepciones son obvias - con una jerarquía específica de excepciones los errores se pueden manejar con más precisión y claridad. "
   ]
  },
  {
   "cell_type": "markdown",
   "metadata": {
    "slideshow": {
     "slide_type": "slide"
    }
   },
   "source": [
    "### Recuerden\n",
    "   * muchas veces una excepción \"built-in\"  estará tan bién <br>como una subclase specífica\n",
    "   * si una excepción se capturara fuera del propio módulo, el código que la captura tendrá que importar esa excepción\n",
    "   * intente conseguir el mejor equilibrio entre legibilidad y funcionalidad\n"
   ]
  },
  {
   "cell_type": "markdown",
   "metadata": {
    "slideshow": {
     "slide_type": "notes"
    }
   },
   "source": [
    "Asi que tal vez nos parece bien que usemos herencia y creemos excepciones subclaseadas y personalizadas para cada error en nuestro código. Pero hay otras cosas que considerar - muchas veces las excepciones incorporadas en Python servirán tan bién como las subclaseadas, y si quiere capturar una excepción subclaseada en un paquete diferente, tiene que importarla explícitamente. Además jerarquías complicadas son más difícil de leer y entender y al menudo no contienen my por eso deberíamos intentar lograr un equilibrio entre "
   ]
  },
  {
   "cell_type": "markdown",
   "metadata": {
    "slideshow": {
     "slide_type": "notes"
    }
   },
   "source": []
  },
  {
   "cell_type": "markdown",
   "metadata": {
    "slideshow": {
     "slide_type": "slide"
    }
   },
   "source": [
    "## Recomendaciones para el uso de excepciones\n",
    "* Piense en qué excepciones se capturan y como se manejan \n",
    "* Considere con qué frecuencia ocurrirá la excepción\n",
    "* Use las excepciones incorporadas cuando sea apropiado\n"
   ]
  },
  {
   "cell_type": "markdown",
   "metadata": {
    "slideshow": {
     "slide_type": "notes"
    }
   },
   "source": [
    "En general, recomiendo que piensen en qué errores se esperan y en com se manejarán. Tambien si muchas exceptiones se esperan, tal vez el deseño no es optimo... "
   ]
  },
  {
   "cell_type": "markdown",
   "metadata": {
    "slideshow": {
     "slide_type": "slide"
    }
   },
   "source": [
    "## Las excepciones ya no son solo para errores... \n",
    "\n"
   ]
  },
  {
   "cell_type": "markdown",
   "metadata": {
    "slideshow": {
     "slide_type": "notes"
    }
   },
   "source": [
    "Sin embargo, en Python hay excepciones que no tienen nada que ver con errores. "
   ]
  },
  {
   "cell_type": "markdown",
   "metadata": {
    "slideshow": {
     "slide_type": "slide"
    }
   },
   "source": [
    "## Gracias a la teoría de Harry Potter...\n",
    "\n",
    "\n",
    "*I'm sure that when J.K. Rowling wrote the first Harry Potter book (planning it as the first of a series of seven) she had developed a fairly good idea of what kind of things might eventually happen in the series, but she didn't have the complete plot lines for the remaining books worked out, nor did she have every detail decided of how magic works in her world.*\n",
    "\n",
    "*I'm also assuming that as she wrote successive volumes, she occasionally went back to earlier books, picked out a detail that at the time was given just to add color (or should I say colour :-) to the story, and gave it new significance...*\n",
    "\n",
    "*In a similar vein, I had never thought of iterators or generators when I came up with Python's for-loop, or using % as a string formatting operator, and as a matter of fact, using 'def' for defining both methods and functions was not part of the initial plan either (although I like it!).*\n",
    "\n",
    "\n",
    "\n",
    "~ Guido van Rossum, The Harry Potter Theory of Programming Language Design  - https://www.artima.com/weblogs/viewpost.jsp?thread=123234"
   ]
  },
  {
   "cell_type": "markdown",
   "metadata": {
    "slideshow": {
     "slide_type": "notes"
    }
   },
   "source": [
    "No voy a traducir este texto, es de un post escrito por Guido, el creador de Python, en 2005. Guido había estado leyendo la serie de libros de Harry Potter, y vio un paralelismo entre el desarrollo de una serie de libros y un lenguaje.\n",
    "\n",
    "En particular creía que tanto en la evolución de Python como en el desarrollo de la historia de Harry, varias características se produjeron para una función, pero al final se usa para propósitos totalmente diferentes, como, \"I had never thought of iterators or generators when I came up with Python's for-loop, or using % as a string formatting operator, and as a matter of fact, using 'def' for defining both methods and functions was not part of the initial plan either (although I like it!).\"\n",
    "\n",
    "Este es el caso con excepciones - se crearon para manejar los errores, pero hoy en dia se usan par funciones que no tienen nada que ver con errores. Veamos si ustedes las conocen."
   ]
  },
  {
   "cell_type": "markdown",
   "metadata": {
    "slideshow": {
     "slide_type": "slide"
    }
   },
   "source": [
    "### Las excepciones se lanzan en todos los ejemplos abajo\n",
    "\n",
    "¿Cuántas ya conoces?\n",
    "\n",
    "¿Cuáles excepciones se lanzan?\n"
   ]
  },
  {
   "cell_type": "markdown",
   "metadata": {
    "slideshow": {
     "slide_type": "notes"
    }
   },
   "source": [
    "Vamos a ver cuatro ejemplos del uso de las excepciones en Python que no están causadas por errores.\n"
   ]
  },
  {
   "cell_type": "code",
   "execution_count": 3,
   "metadata": {
    "scrolled": false,
    "slideshow": {
     "slide_type": "slide"
    }
   },
   "outputs": [
    {
     "ename": "SystemExit",
     "evalue": "0",
     "output_type": "error",
     "traceback": [
      "An exception has occurred, use %tb to see the full traceback.\n",
      "\u001b[0;31mSystemExit\u001b[0m\u001b[0;31m:\u001b[0m 0\n"
     ]
    },
    {
     "name": "stderr",
     "output_type": "stream",
     "text": [
      "/Users/naomi/.virtualenvs/jupyter/lib/python3.6/site-packages/IPython/core/interactiveshell.py:2971: UserWarning: To exit: use 'exit', 'quit', or Ctrl-D.\n",
      "  warn(\"To exit: use 'exit', 'quit', or Ctrl-D.\", stacklevel=1)\n"
     ]
    }
   ],
   "source": [
    "import sys\n",
    "\n",
    "sys.exit(0)"
   ]
  },
  {
   "cell_type": "code",
   "execution_count": 4,
   "metadata": {
    "slideshow": {
     "slide_type": "fragment"
    }
   },
   "outputs": [
    {
     "ename": "SystemExit",
     "evalue": "0",
     "output_type": "error",
     "traceback": [
      "An exception has occurred, use %tb to see the full traceback.\n",
      "\u001b[0;31mSystemExit\u001b[0m\u001b[0;31m:\u001b[0m 0\n"
     ]
    },
    {
     "name": "stderr",
     "output_type": "stream",
     "text": [
      "/Users/naomi/.virtualenvs/jupyter/lib/python3.6/site-packages/IPython/core/interactiveshell.py:2971: UserWarning: To exit: use 'exit', 'quit', or Ctrl-D.\n",
      "  warn(\"To exit: use 'exit', 'quit', or Ctrl-D.\", stacklevel=1)\n"
     ]
    }
   ],
   "source": [
    "raise SystemExit(0)"
   ]
  },
  {
   "cell_type": "markdown",
   "metadata": {
    "slideshow": {
     "slide_type": "slide"
    }
   },
   "source": [
    "### SystemExit\n",
    "* `sys.exit()` lanza una excepción `SystemExit`\n",
    "* `raise SystemExit` tiene el mismo efecto que `sys.exit()`"
   ]
  },
  {
   "cell_type": "markdown",
   "metadata": {
    "slideshow": {
     "slide_type": "notes"
    }
   },
   "source": [
    "Bueno, la función sys.exit() es bastante común, y casi todos la hemos usado. Sin embargo, esta función no hace nada más que lanzar una excepción SystemExit que el intérprete captura.\n"
   ]
  },
  {
   "cell_type": "code",
   "execution_count": 5,
   "metadata": {
    "scrolled": false,
    "slideshow": {
     "slide_type": "slide"
    }
   },
   "outputs": [
    {
     "name": "stdout",
     "output_type": "stream",
     "text": [
      "1\n",
      "2\n",
      "3\n",
      "4\n"
     ]
    }
   ],
   "source": [
    "una_lista = [1, 2, 3, 4]\n",
    "\n",
    "for i in una_lista:\n",
    "    print(i)"
   ]
  },
  {
   "cell_type": "markdown",
   "metadata": {
    "slideshow": {
     "slide_type": "slide"
    }
   },
   "source": [
    "### StopIteration\n",
    "\n",
    "* los iteradores lanzan una excepción StopIteration para indicar que están gastados.\n",
    "* algunos iterables con semántica de secuencia pueden lanzar una excepción IndexError para señalar al iterador que se llegó al final de la secuencia "
   ]
  },
  {
   "cell_type": "markdown",
   "metadata": {
    "slideshow": {
     "slide_type": "notes"
    }
   },
   "source": [
    "StopIteration es otra excepción usada para controlar el flujo del código. Todos los iteradores lanzan una excepción de este tipo como un señal para terminar la iteración."
   ]
  },
  {
   "cell_type": "code",
   "execution_count": 7,
   "metadata": {
    "scrolled": true,
    "slideshow": {
     "slide_type": "slide"
    }
   },
   "outputs": [
    {
     "name": "stdout",
     "output_type": "stream",
     "text": [
      "linea 1\n",
      "\n",
      "linea 2\n",
      "\n"
     ]
    }
   ],
   "source": [
    "for linea in open(\"archivo_texto.txt\"):\n",
    "    print(linea)\n"
   ]
  },
  {
   "cell_type": "markdown",
   "metadata": {
    "slideshow": {
     "slide_type": "slide"
    }
   },
   "source": [
    "### EOFError\n",
    "\n",
    "* leer un archivo cuando no hay más para leer lanza  una excepción `EOFError` "
   ]
  },
  {
   "cell_type": "markdown",
   "metadata": {
    "slideshow": {
     "slide_type": "notes"
    }
   },
   "source": [
    "Este caso se parece bastante similar al anterior y si se lanza una excepción StopIteration que termine la iteración. Pero esa no es la única excepción lanzada. Cada vez que se lea un archive y no hay mas que leer, una excepción EOFError se lanza la que en este ejemplo causa el iterador que termine la iteración "
   ]
  },
  {
   "cell_type": "code",
   "execution_count": 8,
   "metadata": {
    "scrolled": true,
    "slideshow": {
     "slide_type": "slide"
    }
   },
   "outputs": [
    {
     "name": "stdout",
     "output_type": "stream",
     "text": [
      "Got 1\n",
      "Got 2\n",
      "Todo hecho\n"
     ]
    }
   ],
   "source": [
    "def num_gen():\n",
    "    numeros = [1, 2, 3, 4]\n",
    "    for numero in numeros:\n",
    "        yield numero\n",
    "    print(\"Último numero enviado\")\n",
    "\n",
    "for numero in num_gen():\n",
    "    print(\"Got\", numero)\n",
    "    if numero == 2:\n",
    "        break\n",
    "\n",
    "print(\"Todo hecho\")"
   ]
  },
  {
   "cell_type": "markdown",
   "metadata": {
    "slideshow": {
     "slide_type": "notes"
    }
   },
   "source": [
    "en este ejemplo tenemos un generador que devuelve números de una lista. En tanto como un generador es un iterador normalmente lanzará una StopIteration excepción cuando termina, pero si el código saliera del bucle antes de que termina el generador, como así... (Note que el mensaje \"Último numero enviado\" no se muestra)"
   ]
  },
  {
   "cell_type": "code",
   "execution_count": 26,
   "metadata": {
    "scrolled": true,
    "slideshow": {
     "slide_type": "slide"
    }
   },
   "outputs": [
    {
     "name": "stdout",
     "output_type": "stream",
     "text": [
      "Recebido: 1\n",
      "Recebido: 2\n",
      "GeneratorExit lanzada\n",
      "Todo hecho\n"
     ]
    }
   ],
   "source": [
    "def num_gen():\n",
    "    numeros = [1, 2, 3, 4]\n",
    "    try:\n",
    "        for numero in numeros:\n",
    "            yield numero\n",
    "    except GeneratorExit:\n",
    "        print(\"GeneratorExit lanzada\")\n",
    "        return\n",
    "    print(\"Último número enviado\")\n",
    "\n",
    "for numero in num_gen():\n",
    "    print(\"Recebido:\", numero)\n",
    "    if numero == 2:\n",
    "        break\n",
    "\n",
    "print(\"Todo hecho\")\n"
   ]
  },
  {
   "cell_type": "markdown",
   "metadata": {
    "slideshow": {
     "slide_type": "notes"
    }
   },
   "source": [
    "... el generador se bloquearía después del último `yield`. En este caso hay una solución - podemos capturar una excepción de tipo GeneratorExit."
   ]
  },
  {
   "cell_type": "markdown",
   "metadata": {
    "slideshow": {
     "slide_type": "slide"
    }
   },
   "source": [
    "### GeneratorExit\n",
    "\n",
    "* los generadores lanzan una excepción StopIteration cuando se han gastado, al igual que los otros iteradores\n",
    "* si un objeto generador no \"termina\", está bloqueado despues del último `yield`...\n",
    "* y cuando el objeto generador está \"terminado\", `generator.close()` lanza una excepción `GeneratorExit` donde se ejecutó el último `yield`"
   ]
  },
  {
   "cell_type": "markdown",
   "metadata": {
    "slideshow": {
     "slide_type": "notes"
    }
   },
   "source": []
  },
  {
   "cell_type": "code",
   "execution_count": 12,
   "metadata": {
    "slideshow": {
     "slide_type": "slide"
    }
   },
   "outputs": [
    {
     "name": "stdout",
     "output_type": "stream",
     "text": [
      "A punto de obtener __str__\n",
      "<method-wrapper '__str__' of Foo object at 0x106fc92b0>\n",
      "A punto de obtener bar\n",
      "Este clase no tiene atributo bar - lanzando AttributeException\n",
      "AttributeError lanzado intentando obtener atributo bar\n",
      "Intentaste obtener bar\n"
     ]
    }
   ],
   "source": [
    "class Foo:\n",
    "    def __getattribute__(self, attr):\n",
    "        try:\n",
    "            print(f\"A punto de obtener {attr}\")\n",
    "            attr = super().__getattribute__(attr)\n",
    "        except AttributeError as e:\n",
    "            print(f\"Este clase no tiene atributo {attr}\"\n",
    "                  \" - lanzando AttributeException\")\n",
    "            raise e\n",
    "        return attr\n",
    "    \n",
    "    def __getattr__(self, attr):\n",
    "        print(f\"AttributeError lanzado intentando \"\n",
    "              f\"obtener atributo {attr}\")\n",
    "        return f\"Intentaste obtener {attr}\"\n",
    "        \n",
    "        \n",
    "foo = Foo()\n",
    "print(foo.__str__)\n",
    "print(foo.bar)\n"
   ]
  },
  {
   "cell_type": "markdown",
   "metadata": {
    "slideshow": {
     "slide_type": "slide"
    }
   },
   "source": [
    "### AttributeError\n",
    "\n",
    "* Si `__getattribute__` no encuentra el nombre del atributo que se está buscando, lanzará una excepción` AttributeError` y...\n",
    "* llamará a `__getattr__` para calcular y devolver un valor o lanzar <br>de nuevo una excepción` AttributeError`"
   ]
  },
  {
   "cell_type": "markdown",
   "metadata": {
    "slideshow": {
     "slide_type": "notes"
    }
   },
   "source": [
    "Y finalmente este caso es en verdad un error, pero generalmente no vemos la excepción. Si intentamos obtener un atributo de un objeto Python llama el método `__getattribute__`. Si ese atributo no existe, se lanza una excepción AttributeError que automáticamente se captura y resulta en un llamado al método `__getattr__` en que el valor del atributo se puede calcular o ser traído... o se puede lanzar la AttributeError de nuevo."
   ]
  },
  {
   "cell_type": "markdown",
   "metadata": {
    "slideshow": {
     "slide_type": "slide"
    }
   },
   "source": [
    "### En Python, las excepciones se utilizan <br>como una forma de controlar el flujo\n",
    "\n",
    "Particularmente cuando...\n",
    "\n",
    "* se espera que la condición que causa la excepción sea muy poco frecuente en comparación con las otras condiciones\n",
    "* la condición que causa la excepción es bastante diferente de la condición normal\n",
    "* utilizar una excepción en lugar de comprobar la condición hace el código más simple"
   ]
  },
  {
   "cell_type": "markdown",
   "metadata": {
    "slideshow": {
     "slide_type": "notes"
    }
   },
   "source": [
    "El uso de excepciones como estas para controlar el flujo de ejecución se puede ver bastante raro y sorprendente a programadores de otros lenguajes, pero espero (gracias a Harry Potter) que ustedes creaq que se ve Pythonico.... "
   ]
  },
  {
   "cell_type": "markdown",
   "metadata": {
    "slideshow": {
     "slide_type": "slide"
    }
   },
   "source": [
    "### Pero utilizando tantas excepciones simplemente parece mal...\n",
    "\n",
    "* ¿Usar muchas excepciones no afectará al rendimiento?\n",
    "* ¿Usar excepciones no hace que el código sea más complejo? y más difícil de entender? y más difícil de probar?"
   ]
  },
  {
   "cell_type": "markdown",
   "metadata": {
    "slideshow": {
     "slide_type": "notes"
    }
   },
   "source": []
  },
  {
   "cell_type": "markdown",
   "metadata": {
    "slideshow": {
     "slide_type": "slide"
    }
   },
   "source": [
    "### ¿Usar tantas excepciones es confuso o no legible o de alguna manera malo?\n",
    "\n",
    "* Las excepciones son una parte tan integral de Python y tan común, que deben ser comprensibles\n",
    "* Utilizadas correctamente, las excepciones hacen que el código sea más fácil de leer\n"
   ]
  },
  {
   "cell_type": "markdown",
   "metadata": {
    "slideshow": {
     "slide_type": "notes"
    }
   },
   "source": []
  },
  {
   "cell_type": "code",
   "execution_count": null,
   "metadata": {
    "scrolled": true,
    "slideshow": {
     "slide_type": "slide"
    }
   },
   "outputs": [],
   "source": [
    "# Avoiding exceptions\n",
    "\n",
    "for parametro in lista_de_parametros:\n",
    "    resultado = database.query_operation(parametro)\n",
    "    if resultado is not None:\n",
    "        print(resultresultado.count())\n",
    "    else:   \n",
    "        continue "
   ]
  },
  {
   "cell_type": "markdown",
   "metadata": {
    "slideshow": {
     "slide_type": "notes"
    }
   },
   "source": [
    "Este ejemplo es un típico (y totalmente imaginario) llamado a un base de datos. Noten que primero consiguimos el resultado, y después confirmamos que él existe, y finalmente lo mostramos. Y no usamos ninguna excepción. "
   ]
  },
  {
   "cell_type": "code",
   "execution_count": null,
   "metadata": {
    "scrolled": true,
    "slideshow": {
     "slide_type": "slide"
    }
   },
   "outputs": [],
   "source": [
    " # with exceptions\n",
    "for parametro in lista_de_parametros:\n",
    "    try:\n",
    "        print(database.query_operation(parametro).count())\n",
    "    except AttributeError:\n",
    "        continue"
   ]
  },
  {
   "cell_type": "markdown",
   "metadata": {
    "slideshow": {
     "slide_type": "notes"
    }
   },
   "source": [
    "por otro lado, este ejemplo es Pythonico y intenta mostrar la cuenta del resultado y ????"
   ]
  },
  {
   "cell_type": "markdown",
   "metadata": {
    "slideshow": {
     "slide_type": "slide"
    }
   },
   "source": [
    "## ¿Qué hay de rendimiento?\n",
    "### ¿No son caras las excepciones?"
   ]
  },
  {
   "cell_type": "markdown",
   "metadata": {
    "slideshow": {
     "slide_type": "notes"
    }
   },
   "source": []
  },
  {
   "cell_type": "markdown",
   "metadata": {
    "slideshow": {
     "slide_type": "slide"
    }
   },
   "source": [
    "### Sí las excepciones son un poco más lentas, pero... \n",
    "\n",
    "* son optimizadas y no son tan caras como, por ejemplo, a principios de C++\n",
    "* ocurren tan raramente que hay poco costo\n",
    "* en general, el código más Pythonico tiende a ejecutar más rápido"
   ]
  },
  {
   "cell_type": "markdown",
   "metadata": {
    "slideshow": {
     "slide_type": "notes"
    }
   },
   "source": []
  },
  {
   "cell_type": "code",
   "execution_count": 18,
   "metadata": {
    "slideshow": {
     "slide_type": "slide"
    }
   },
   "outputs": [],
   "source": [
    "def test_while_loop():\n",
    "    i = 0\n",
    "    length = 1000\n",
    "    while i < length:\n",
    "        x = i * i\n",
    "        i += 1"
   ]
  },
  {
   "cell_type": "code",
   "execution_count": 17,
   "metadata": {
    "slideshow": {
     "slide_type": "slide"
    }
   },
   "outputs": [],
   "source": [
    "class Count():\n",
    "    def __init__(self, cuenta):\n",
    "        self.cuenta = cuenta\n",
    "    def __getitem__(self, key):\n",
    "        if 0 < key < self.cuenta:\n",
    "            return key\n",
    "        else:\n",
    "            # lanza IndexError a iterador\n",
    "            raise IndexError\n",
    "\n",
    "def test_count():\n",
    "    contador = Count(1000)\n",
    "    # iterador lanza StopIteration para terminar iteración\n",
    "    for i in contador:\n",
    "        x = i * i"
   ]
  },
  {
   "cell_type": "code",
   "execution_count": 20,
   "metadata": {
    "scrolled": true,
    "slideshow": {
     "slide_type": "fragment"
    }
   },
   "outputs": [
    {
     "name": "stdout",
     "output_type": "stream",
     "text": [
      "108 µs ± 979 ns per loop (mean ± std. dev. of 7 runs, 10000 loops each)\n"
     ]
    }
   ],
   "source": [
    "%timeit test_while_loop()"
   ]
  },
  {
   "cell_type": "code",
   "execution_count": 19,
   "metadata": {
    "slideshow": {
     "slide_type": "slide"
    }
   },
   "outputs": [
    {
     "name": "stdout",
     "output_type": "stream",
     "text": [
      "1.49 µs ± 475 ns per loop (mean ± std. dev. of 7 runs, 1000000 loops each)\n"
     ]
    }
   ],
   "source": [
    "%timeit test_count()"
   ]
  },
  {
   "cell_type": "markdown",
   "metadata": {
    "slideshow": {
     "slide_type": "notes"
    }
   },
   "source": []
  },
  {
   "cell_type": "markdown",
   "metadata": {
    "slideshow": {
     "slide_type": "slide"
    }
   },
   "source": [
    "## ¿Qué significa todo esto?\n",
    "\n",
    "* Python tiene un systema rico y bién desarollado de excepciones\n",
    "* Los errores se pueden especifcar y manejar según su jerarquía de herencia\n",
    "* Las excepciones se usan en Python tambien para controlar flujo, no solo para errores\n",
    "* Como un lenguaje interpretado, Python es adecuado manejar excepciones y recuperarse de ellas\n"
   ]
  },
  {
   "cell_type": "markdown",
   "metadata": {
    "slideshow": {
     "slide_type": "notes"
    }
   },
   "source": [
    "Entonces, hay varias observaciones"
   ]
  },
  {
   "cell_type": "markdown",
   "metadata": {
    "slideshow": {
     "slide_type": "notes"
    }
   },
   "source": []
  },
  {
   "cell_type": "markdown",
   "metadata": {
    "slideshow": {
     "slide_type": "slide"
    }
   },
   "source": [
    "## Es más Pythonico usar excepciones <br>que comprobar tipos, resultados, etc\n",
    "\n",
    "### Recommendaciones\n",
    "\n",
    "en general, se prefiere capturar una excepción que comprobar un resultaldo si:\n",
    "* la excepcion se espera que sea infrequente\n",
    "* la excepción es especifica\n",
    "* el código es así más fácil de leer..."
   ]
  },
  {
   "cell_type": "markdown",
   "metadata": {
    "slideshow": {
     "slide_type": "notes"
    }
   },
   "source": [
    "Es más Pythonico usar excepciones en las siguientes condiciones - si esperamos que las excepciones sean poco frequentes (muchas excepciones ralentazarían su código); si la excepcion es específica; o si usar un excepción hace que el código sea mas sencillo y fácil de leer."
   ]
  },
  {
   "cell_type": "markdown",
   "metadata": {
    "slideshow": {
     "slide_type": "slide"
    }
   },
   "source": [
    "\n",
    "## Sí, (en Python) en verdad es más sencillo pedir perdón que permiso"
   ]
  },
  {
   "cell_type": "markdown",
   "metadata": {
    "slideshow": {
     "slide_type": "notes"
    }
   },
   "source": [
    "Muchas gracias a todos para escucharme, Espero que hayas encontrado algo útil en esta charla. \n",
    "\n",
    "Las diapos están aqui... ¿hay preguntas?"
   ]
  }
 ],
 "metadata": {
  "celltoolbar": "Slideshow",
  "kernelspec": {
   "display_name": "Python 3",
   "language": "python",
   "name": "python3"
  },
  "language_info": {
   "codemirror_mode": {
    "name": "ipython",
    "version": 3
   },
   "file_extension": ".py",
   "mimetype": "text/x-python",
   "name": "python",
   "nbconvert_exporter": "python",
   "pygments_lexer": "ipython3",
   "version": "3.6.4"
  },
  "livereveal": {
   "scroll": true,
   "start_slideshow_at": "selected",
   "theme": "white",
   "transition": "none"
  },
  "toc": {
   "nav_menu": {},
   "number_sections": false,
   "sideBar": false,
   "skip_h1_title": false,
   "toc_cell": true,
   "toc_position": {
    "height": "40px",
    "left": "13px",
    "right": "20px",
    "top": "115px",
    "width": "212px"
   },
   "toc_section_display": "block",
   "toc_window_display": false
  }
 },
 "nbformat": 4,
 "nbformat_minor": 2
}
